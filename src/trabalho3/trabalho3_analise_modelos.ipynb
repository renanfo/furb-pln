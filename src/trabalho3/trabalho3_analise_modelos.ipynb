{
  "cells": [
    {
      "cell_type": "markdown",
      "metadata": {},
      "source": [
        "\n",
        "# Trabalho - Comparação de Modelos de Representação Textual\n",
        "\n",
        "## Embeddings\n",
        "- **BERT**: mBERT\n",
        "- **TF-IDF**\n",
        "- **Word2Vec**\n",
        "\n",
        "Até o momento o projeto faz:\n",
        "1. **Web Scraping** do blog adalbertoday.blogspot.com\n",
        "2. **Processamento de Linguagem Natural** (tokenização, normalização, stemming, lemmatização)\n",
        "3. **Análise Comparativa** entre os três modelos\n",
        "4. **Geração de Relatórios** com estatísticas entre eles\n",
        "\n",
        "## Estrutura do Notebook\n",
        "1. **Configuração Inicial** - Imports e setup, pois em minha máquina preciso fazer import colocando o link do python\n",
        "2. **Processamento PLN** - Classe para limpeza e pré-processamento\n",
        "3. **Web Scraping** - Extração de dados do blog\n",
        "4. **Comparação dos Modelos** - Implementação e análise dos três modelos\n",
        "5. **Execução** - Execução de cada etapa\n"
      ]
    },
    {
      "cell_type": "markdown",
      "metadata": {},
      "source": [
        "---\n",
        "\n",
        "## Configuração Inicial\n",
        "Imports e setup, pois em minha máquina preciso fazer import colocando o link do python"
      ]
    },
    {
      "cell_type": "markdown",
      "metadata": {},
      "source": [
        "### Baixando as dependencias"
      ]
    },
    {
      "cell_type": "code",
      "execution_count": 15,
      "metadata": {},
      "outputs": [
        {
          "name": "stdout",
          "output_type": "stream",
          "text": [
            "Instalando dependencias com repositorios\n",
            "Instalando pandas\n"
          ]
        },
        {
          "name": "stderr",
          "output_type": "stream",
          "text": [
            "huggingface/tokenizers: The current process just got forked, after parallelism has already been used. Disabling parallelism to avoid deadlocks...\n",
            "To disable this warning, you can either:\n",
            "\t- Avoid using `tokenizers` before the fork if possible\n",
            "\t- Explicitly set the environment variable TOKENIZERS_PARALLELISM=(true | false)\n"
          ]
        },
        {
          "name": "stdout",
          "output_type": "stream",
          "text": [
            "pandas instalado\n",
            "Instalando numpy\n"
          ]
        },
        {
          "name": "stderr",
          "output_type": "stream",
          "text": [
            "huggingface/tokenizers: The current process just got forked, after parallelism has already been used. Disabling parallelism to avoid deadlocks...\n",
            "To disable this warning, you can either:\n",
            "\t- Avoid using `tokenizers` before the fork if possible\n",
            "\t- Explicitly set the environment variable TOKENIZERS_PARALLELISM=(true | false)\n"
          ]
        },
        {
          "name": "stdout",
          "output_type": "stream",
          "text": [
            "numpy instalado\n",
            "Instalando selenium\n"
          ]
        },
        {
          "name": "stderr",
          "output_type": "stream",
          "text": [
            "huggingface/tokenizers: The current process just got forked, after parallelism has already been used. Disabling parallelism to avoid deadlocks...\n",
            "To disable this warning, you can either:\n",
            "\t- Avoid using `tokenizers` before the fork if possible\n",
            "\t- Explicitly set the environment variable TOKENIZERS_PARALLELISM=(true | false)\n"
          ]
        },
        {
          "name": "stdout",
          "output_type": "stream",
          "text": [
            "selenium instalado\n",
            "Instalando nltk\n"
          ]
        },
        {
          "name": "stderr",
          "output_type": "stream",
          "text": [
            "huggingface/tokenizers: The current process just got forked, after parallelism has already been used. Disabling parallelism to avoid deadlocks...\n",
            "To disable this warning, you can either:\n",
            "\t- Avoid using `tokenizers` before the fork if possible\n",
            "\t- Explicitly set the environment variable TOKENIZERS_PARALLELISM=(true | false)\n"
          ]
        },
        {
          "name": "stdout",
          "output_type": "stream",
          "text": [
            "nltk instalado\n",
            "Instalando scikit-learn\n"
          ]
        },
        {
          "name": "stderr",
          "output_type": "stream",
          "text": [
            "huggingface/tokenizers: The current process just got forked, after parallelism has already been used. Disabling parallelism to avoid deadlocks...\n",
            "To disable this warning, you can either:\n",
            "\t- Avoid using `tokenizers` before the fork if possible\n",
            "\t- Explicitly set the environment variable TOKENIZERS_PARALLELISM=(true | false)\n"
          ]
        },
        {
          "name": "stdout",
          "output_type": "stream",
          "text": [
            "scikit-learn instalado\n",
            "Instalando matplotlib\n"
          ]
        },
        {
          "name": "stderr",
          "output_type": "stream",
          "text": [
            "huggingface/tokenizers: The current process just got forked, after parallelism has already been used. Disabling parallelism to avoid deadlocks...\n",
            "To disable this warning, you can either:\n",
            "\t- Avoid using `tokenizers` before the fork if possible\n",
            "\t- Explicitly set the environment variable TOKENIZERS_PARALLELISM=(true | false)\n"
          ]
        },
        {
          "name": "stdout",
          "output_type": "stream",
          "text": [
            "matplotlib instalado\n",
            "Instalando seaborn\n"
          ]
        },
        {
          "name": "stderr",
          "output_type": "stream",
          "text": [
            "huggingface/tokenizers: The current process just got forked, after parallelism has already been used. Disabling parallelism to avoid deadlocks...\n",
            "To disable this warning, you can either:\n",
            "\t- Avoid using `tokenizers` before the fork if possible\n",
            "\t- Explicitly set the environment variable TOKENIZERS_PARALLELISM=(true | false)\n"
          ]
        },
        {
          "name": "stdout",
          "output_type": "stream",
          "text": [
            "seaborn instalado\n",
            "Instalando gensim\n"
          ]
        },
        {
          "name": "stderr",
          "output_type": "stream",
          "text": [
            "huggingface/tokenizers: The current process just got forked, after parallelism has already been used. Disabling parallelism to avoid deadlocks...\n",
            "To disable this warning, you can either:\n",
            "\t- Avoid using `tokenizers` before the fork if possible\n",
            "\t- Explicitly set the environment variable TOKENIZERS_PARALLELISM=(true | false)\n"
          ]
        },
        {
          "name": "stdout",
          "output_type": "stream",
          "text": [
            "gensim instalado\n",
            "Instalando transformers\n"
          ]
        },
        {
          "name": "stderr",
          "output_type": "stream",
          "text": [
            "huggingface/tokenizers: The current process just got forked, after parallelism has already been used. Disabling parallelism to avoid deadlocks...\n",
            "To disable this warning, you can either:\n",
            "\t- Avoid using `tokenizers` before the fork if possible\n",
            "\t- Explicitly set the environment variable TOKENIZERS_PARALLELISM=(true | false)\n"
          ]
        },
        {
          "name": "stdout",
          "output_type": "stream",
          "text": [
            "transformers instalado\n",
            "Instalando torch\n"
          ]
        },
        {
          "name": "stderr",
          "output_type": "stream",
          "text": [
            "huggingface/tokenizers: The current process just got forked, after parallelism has already been used. Disabling parallelism to avoid deadlocks...\n",
            "To disable this warning, you can either:\n",
            "\t- Avoid using `tokenizers` before the fork if possible\n",
            "\t- Explicitly set the environment variable TOKENIZERS_PARALLELISM=(true | false)\n"
          ]
        },
        {
          "name": "stdout",
          "output_type": "stream",
          "text": [
            "torch instalado\n",
            "Instalando nbformat\n"
          ]
        },
        {
          "name": "stderr",
          "output_type": "stream",
          "text": [
            "huggingface/tokenizers: The current process just got forked, after parallelism has already been used. Disabling parallelism to avoid deadlocks...\n",
            "To disable this warning, you can either:\n",
            "\t- Avoid using `tokenizers` before the fork if possible\n",
            "\t- Explicitly set the environment variable TOKENIZERS_PARALLELISM=(true | false)\n"
          ]
        },
        {
          "name": "stdout",
          "output_type": "stream",
          "text": [
            "nbformat instalado\n",
            "\n",
            "Instalação ok\n"
          ]
        }
      ],
      "source": [
        "import subprocess\n",
        "import sys\n",
        "\n",
        "def instalar_dependencias():\n",
        "    dependencias = [\n",
        "        \"pandas\",\n",
        "        \"numpy\", \n",
        "        \"selenium\",\n",
        "        \"nltk\",\n",
        "        \"scikit-learn\",\n",
        "        \"matplotlib\",\n",
        "        \"seaborn\",\n",
        "        \"gensim\",\n",
        "        \"transformers\",\n",
        "        \"torch\",\n",
        "        \"nbformat\"\n",
        "    ]\n",
        "    \n",
        "    print(\"Instalando dependencias com repositorios\")\n",
        "    \n",
        "    for dep in dependencias:\n",
        "        try:\n",
        "            print(f\"Instalando {dep}\")\n",
        "            cmd = [\n",
        "                sys.executable, \"-m\", \"pip\", \"install\", \n",
        "                \"--trusted-host\", \"pypi.org\",\n",
        "                \"--trusted-host\", \"pypi.python.org\", \n",
        "                \"--trusted-host\", \"files.pythonhosted.org\",\n",
        "                \"--index-url\", \"https://pypi.org/simple/\",\n",
        "                \"--upgrade\", dep\n",
        "            ]\n",
        "            \n",
        "            resultado = subprocess.run(cmd, capture_output=True, text=True)\n",
        "            \n",
        "            if resultado.returncode == 0:\n",
        "                print(f\"{dep} instalado\")\n",
        "            else:\n",
        "                print(f\"Erro ao instalar {dep}: {resultado.stderr}\")\n",
        "                \n",
        "        except Exception as e:\n",
        "            print(f\"Erro na instalação de {dep}: {e}\")\n",
        "    \n",
        "    print(\"\\nInstalação ok\")\n",
        "\n",
        "instalar_dependencias()\n"
      ]
    },
    {
      "cell_type": "markdown",
      "metadata": {},
      "source": [
        "### Se der erro acima, tentar esse abaixo"
      ]
    },
    {
      "cell_type": "markdown",
      "metadata": {},
      "source": [
        "```bash\n",
        "pip install --trusted-host pypi.org --trusted-host pypi.python.org --trusted-host files.pythonhosted.org --index-url https://pypi.org/simple/ pandas numpy selenium nltk scikit-learn matplotlib seaborn gensim transformers torch\n",
        "```"
      ]
    },
    {
      "cell_type": "markdown",
      "metadata": {},
      "source": [
        "### Valida se tem todas dependencias"
      ]
    },
    {
      "cell_type": "code",
      "execution_count": 16,
      "metadata": {},
      "outputs": [
        {
          "name": "stdout",
          "output_type": "stream",
          "text": [
            "Verificando dependencias instaladas\n",
            "pandas       - OK\n",
            "numpy        - OK\n",
            "selenium     - OK\n",
            "nltk         - OK\n",
            "sklearn      - OK\n",
            "matplotlib   - OK\n",
            "seaborn      - OK\n",
            "gensim       - OK\n",
            "transformers - OK\n",
            "torch        - OK\n",
            "nbformat     - OK\n",
            "Todas as dependencias estão funcionando\n"
          ]
        },
        {
          "data": {
            "text/plain": [
              "True"
            ]
          },
          "execution_count": 16,
          "metadata": {},
          "output_type": "execute_result"
        }
      ],
      "source": [
        "def verificar_dependencias():\n",
        "    dependencias_testar = {\n",
        "        'pandas': 'import pandas as pd',\n",
        "        'numpy': 'import numpy as np', \n",
        "        'selenium': 'from selenium import webdriver',\n",
        "        'nltk': 'import nltk',\n",
        "        'sklearn': 'from sklearn.feature_extraction.text import TfidfVectorizer',\n",
        "        'matplotlib': 'import matplotlib.pyplot as plt',\n",
        "        'seaborn': 'import seaborn as sns',\n",
        "        'gensim': 'from gensim.models import Word2Vec',\n",
        "        'transformers': 'from transformers import AutoTokenizer, AutoModel',\n",
        "        'torch': 'import torch',\n",
        "        'nbformat': 'import nbformat'\n",
        "    }\n",
        "    \n",
        "    print(\"Verificando dependencias instaladas\")\n",
        "    \n",
        "    tudo_ok = True\n",
        "    \n",
        "    for nome, codigo in dependencias_testar.items():\n",
        "        try:\n",
        "            exec(codigo)\n",
        "            print(f\"{nome:<12} - OK\")\n",
        "        except ImportError as e:\n",
        "            print(f\"{nome:<12} - ERRO: {e}\")\n",
        "            tudo_ok = False\n",
        "        except Exception as e:\n",
        "            print(f\"{nome:<12} - AVISO: {e}\")\n",
        "    \n",
        "    if tudo_ok:\n",
        "        print(\"Todas as dependencias estão funcionando\")\n",
        "    else:\n",
        "        print(\"Algumas dependencias faltam\")\n",
        "    \n",
        "    return tudo_ok\n",
        "\n",
        "verificar_dependencias()\n"
      ]
    },
    {
      "cell_type": "markdown",
      "metadata": {},
      "source": [
        "### Imports e Dependências\n"
      ]
    },
    {
      "cell_type": "code",
      "execution_count": 17,
      "metadata": {},
      "outputs": [
        {
          "name": "stdout",
          "output_type": "stream",
          "text": [
            "Todos os imports realizados\n"
          ]
        }
      ],
      "source": [
        "# Imports basicos\n",
        "import time\n",
        "import hashlib\n",
        "import os\n",
        "from functools import wraps\n",
        "from urllib.parse import urlparse\n",
        "\n",
        "# Analise de dados\n",
        "import pandas as pd\n",
        "import numpy as np\n",
        "\n",
        "# Web scraping\n",
        "from selenium import webdriver\n",
        "from selenium.common.exceptions import (\n",
        "    WebDriverException, TimeoutException, StaleElementReferenceException\n",
        ")\n",
        "from selenium.webdriver.common.by import By\n",
        "from selenium.webdriver.support.ui import WebDriverWait\n",
        "from selenium.webdriver.support import expected_conditions as EC\n",
        "\n",
        "# Processamento de linguagem natural para o scraper\n",
        "import nltk\n",
        "from nltk.tokenize import word_tokenize, sent_tokenize\n",
        "from nltk.corpus import stopwords\n",
        "from nltk.stem import RSLPStemmer, WordNetLemmatizer\n",
        "import string\n",
        "import re\n",
        "\n",
        "# Machine Learning e modelos\n",
        "from sklearn.feature_extraction.text import TfidfVectorizer\n",
        "from sklearn.metrics.pairwise import cosine_similarity\n",
        "from sklearn.decomposition import PCA\n",
        "from gensim.models import Word2Vec\n",
        "from transformers import AutoTokenizer, AutoModel\n",
        "import torch\n",
        "\n",
        "# Visualização\n",
        "import matplotlib.pyplot as plt\n",
        "import seaborn as sns\n",
        "\n",
        "# Visualização avançada para clusterização e similaridade\n",
        "import plotly.express as px\n",
        "import plotly.graph_objects as go\n",
        "from sklearn.cluster import KMeans\n",
        "\n",
        "# Classificação com Naive Bayes\n",
        "from sklearn.naive_bayes import MultinomialNB, GaussianNB\n",
        "from sklearn.model_selection import train_test_split, cross_val_score, StratifiedKFold\n",
        "from sklearn.metrics import accuracy_score, classification_report, confusion_matrix\n",
        "from sklearn.preprocessing import LabelEncoder\n",
        "import seaborn as sns\n",
        "\n",
        "import warnings\n",
        "warnings.filterwarnings('ignore')\n",
        "\n",
        "print(\"Todos os imports realizados\")\n"
      ]
    },
    {
      "cell_type": "markdown",
      "metadata": {},
      "source": [
        "### Configurações Globais\n"
      ]
    },
    {
      "cell_type": "code",
      "execution_count": 18,
      "metadata": {},
      "outputs": [
        {
          "name": "stdout",
          "output_type": "stream",
          "text": [
            "Diretório de dados: ./database/trabalho2\n",
            "Máximo de posts a processar: 5\n"
          ]
        }
      ],
      "source": [
        "MAX_POSTS = 5  # Número máximo de posts para processar (limitado para notebook)\n",
        "DATABASE_DIR = \"./database/trabalho2\"\n",
        "\n",
        "os.makedirs(DATABASE_DIR, exist_ok=True)\n",
        "\n",
        "print(f\"Diretório de dados: {DATABASE_DIR}\")\n",
        "print(f\"Máximo de posts a processar: {MAX_POSTS}\")\n"
      ]
    },
    {
      "cell_type": "markdown",
      "metadata": {},
      "source": [
        "### Setup do NLTK\n"
      ]
    },
    {
      "cell_type": "code",
      "execution_count": 19,
      "metadata": {},
      "outputs": [
        {
          "name": "stdout",
          "output_type": "stream",
          "text": [
            "Configurando recursos do NLTK\n",
            "punkt ja disponivel\n",
            "stopwords ja disponivel\n",
            "Baixando recurso NLTK: wordnet\n",
            "wordnet baixado com sucesso\n",
            "averaged_perceptron_tagger ja disponivel\n",
            "rslp ja disponivel\n",
            "\n",
            "Setup do NLTK concluido\n"
          ]
        },
        {
          "name": "stderr",
          "output_type": "stream",
          "text": [
            "[nltk_data] Error loading wordnet: HTTP Error 429: Too Many Requests\n"
          ]
        }
      ],
      "source": [
        "def setup_nltk_resources():\n",
        "    required_resources = [\n",
        "        'punkt', 'stopwords', 'wordnet', 'averaged_perceptron_tagger', 'rslp'\n",
        "    ]\n",
        "    \n",
        "    print(\"Configurando recursos do NLTK\")\n",
        "    for resource in required_resources:\n",
        "        try:\n",
        "            if resource == 'punkt':\n",
        "                nltk.data.find('tokenizers/punkt')\n",
        "            elif resource in ['stopwords', 'wordnet']:\n",
        "                nltk.data.find(f'corpora/{resource}')\n",
        "            elif resource == 'rslp':\n",
        "                nltk.data.find('stemmers/rslp')\n",
        "            else:\n",
        "                nltk.data.find(f'taggers/{resource}')\n",
        "            print(f\"{resource} ja disponivel\")\n",
        "        except LookupError:\n",
        "            print(f\"Baixando recurso NLTK: {resource}\")\n",
        "            nltk.download(resource, quiet=True)\n",
        "            print(f\"{resource} baixado com sucesso\")\n",
        "\n",
        "setup_nltk_resources()\n",
        "print(\"\\nSetup do NLTK concluido\")\n"
      ]
    },
    {
      "cell_type": "markdown",
      "metadata": {},
      "source": [
        "### Funções comuns\n",
        "Coloquei as funções que usarei na integração com as páginas, principalmente para conexão"
      ]
    },
    {
      "cell_type": "code",
      "execution_count": 20,
      "metadata": {},
      "outputs": [
        {
          "name": "stdout",
          "output_type": "stream",
          "text": [
            "Funções comuns implementadas\n"
          ]
        }
      ],
      "source": [
        "def _hash_text(s: str) -> str:\n",
        "    return hashlib.sha1(s.encode(\"utf-8\", errors=\"ignore\")).hexdigest()\n",
        "\n",
        "def _extract_filename_from_url(url: str) -> str:\n",
        "    parsed_url = urlparse(url)\n",
        "    path = parsed_url.path.strip('/')\n",
        "    parts = path.split('/')\n",
        "    \n",
        "    if len(parts) >= 3:\n",
        "        year, month, title = parts[0], parts[1], parts[2]\n",
        "        if title.endswith('.html'):\n",
        "            title = title[:-5]\n",
        "        return f\"{year}-{month}-{title}.txt\"\n",
        "    else:\n",
        "        filename = path.replace('/', '-')\n",
        "        if filename.endswith('.html'):\n",
        "            filename = filename[:-5]\n",
        "        return f\"{filename}.txt\"\n",
        "\n",
        "def build_driver():\n",
        "    options = webdriver.ChromeOptions()\n",
        "    options.add_argument(\"--headless=new\")\n",
        "    options.add_argument(\"--no-sandbox\")\n",
        "    options.add_argument(\"--disable-dev-shm-usage\")\n",
        "    options.add_argument(\"--window-size=1920,1080\")\n",
        "    options.add_argument(\"--log-level=3\")\n",
        "    options.add_argument(\"--remote-allow-origins=*\")\n",
        "    \n",
        "    driver = webdriver.Chrome(options=options)\n",
        "    driver.set_page_load_timeout(60)\n",
        "    return driver\n",
        "\n",
        "RECONECT_EXC = (WebDriverException,)\n",
        "\n",
        "def with_reconnect(method):\n",
        "    @wraps(method)\n",
        "    def wrapper(self, *args, **kwargs):\n",
        "        last_exc = None\n",
        "        for attempt in range(3):\n",
        "            try:\n",
        "                return method(self, *args, **kwargs)\n",
        "            except RECONECT_EXC as e:\n",
        "                last_exc = e\n",
        "                print(f\"Sessão perdida. Reiniciando driver. (tentativa {attempt+1}/3)\")\n",
        "                try: \n",
        "                    self.driver.quit()\n",
        "                except Exception: \n",
        "                    pass\n",
        "                self.driver = build_driver()\n",
        "                self.wait = WebDriverWait(self.driver, 20)\n",
        "                if hasattr(self, 'base_url'):\n",
        "                    try:\n",
        "                        self.driver.get(self.base_url)\n",
        "                        time.sleep(2)\n",
        "                    except Exception as e2:\n",
        "                        print(f\"Falha ao retornar para a URL: {e2}\")\n",
        "                time.sleep(0.5 + attempt * 0.5)\n",
        "            except TimeoutException as e:\n",
        "                last_exc = e\n",
        "                print(f\"Timeout. Tentando novamente. (tentativa {attempt+1}/3)\")\n",
        "                time.sleep(1.2 + attempt * 0.5)\n",
        "        raise last_exc\n",
        "    return wrapper\n",
        "\n",
        "print(\"Funções comuns implementadas\")\n"
      ]
    },
    {
      "cell_type": "markdown",
      "metadata": {},
      "source": [
        "---\n",
        "## Classe ProcessadorPLN\n",
        "\n",
        "Esta classe implementa:\n",
        "- **Tokenização**: Divisão do texto em sentenças e palavras\n",
        "- **Normalização**: Remoção de pontuação, stopwords e simbolos\n",
        "- **Stemming**: Redução das palavras ao seu radical usando RSLP  \n",
        "- **Lemmatização**: Redução das palavras\n",
        "- **Extração de Metadados**: Identificação de datas, nomes próprios e números"
      ]
    },
    {
      "cell_type": "code",
      "execution_count": 21,
      "metadata": {},
      "outputs": [
        {
          "name": "stdout",
          "output_type": "stream",
          "text": [
            "Classe ProcessadorPLN implementada!\n"
          ]
        }
      ],
      "source": [
        "class ProcessadorPLN:\n",
        "    def __init__(self):\n",
        "        self.stemmer = RSLPStemmer()\n",
        "        self.lemmatizer = WordNetLemmatizer()\n",
        "        self.stop_words = set(stopwords.words('portuguese'))\n",
        "        print(\"ProcessadorPLN inicializado\")\n",
        "    \n",
        "    def tokenizar(self, texto: str) -> dict:\n",
        "        try:\n",
        "            sentencas = sent_tokenize(texto, language='portuguese')\n",
        "            tokens = word_tokenize(texto.lower(), language='portuguese')\n",
        "            \n",
        "            return {\n",
        "                'sentencas': sentencas,\n",
        "                'tokens': tokens,\n",
        "                'num_sentencas': len(sentencas),\n",
        "                'num_tokens': len(tokens)\n",
        "            }\n",
        "        except Exception as e:\n",
        "            print(f\"Erro na tokenização: {e}\")\n",
        "            return {'sentencas': [], 'tokens': [], 'num_sentencas': 0, 'num_tokens': 0}\n",
        "    \n",
        "    def normalizar_texto(self, tokens: list) -> list:\n",
        "        try:\n",
        "            tokens_limpos = []\n",
        "            for token in tokens:\n",
        "                token_lower = token.lower()\n",
        "                if (token_lower not in string.punctuation and \n",
        "                    not token_lower.isdigit() and \n",
        "                    len(token_lower) > 2):\n",
        "                    tokens_limpos.append(token_lower)\n",
        "            \n",
        "            tokens_sem_stopwords = [\n",
        "                token for token in tokens_limpos \n",
        "                if token not in self.stop_words\n",
        "            ]\n",
        "            \n",
        "            tokens_filtrados = [\n",
        "                token for token in tokens_sem_stopwords \n",
        "                if len(token) >= 3 and any(c.isalpha() for c in token)\n",
        "            ]\n",
        "            \n",
        "            return tokens_filtrados\n",
        "            \n",
        "        except Exception as e:\n",
        "            print(f\"Erro na normalização: {e}\")\n",
        "            return []\n",
        "    \n",
        "    def aplicar_stemming(self, tokens: list) -> list:\n",
        "        try:\n",
        "            return [self.stemmer.stem(token) for token in tokens]\n",
        "        except Exception as e:\n",
        "            print(f\"Erro no stemming: {e}\")\n",
        "            return tokens\n",
        "    \n",
        "    def aplicar_lemmatizacao(self, tokens: list) -> list:\n",
        "        try:\n",
        "            lemmas = []\n",
        "            for token in tokens:\n",
        "                lemma = self.lemmatizer.lemmatize(token, pos='n')  # Substantivo\n",
        "                if lemma == token:\n",
        "                    lemma = self.lemmatizer.lemmatize(token, pos='v')  # Verbo\n",
        "                if lemma == token:\n",
        "                    lemma = self.lemmatizer.lemmatize(token, pos='a')  # Adjetivo\n",
        "                lemmas.append(lemma)\n",
        "            return lemmas\n",
        "        except Exception as e:\n",
        "            print(f\"Erro na lemmatização: {e}\")\n",
        "            return tokens\n",
        "    \n",
        "    def extrair_metadados(self, texto: str, url: str) -> dict:\n",
        "        try:\n",
        "            metadados = {\n",
        "                'url': url,\n",
        "                'tamanho_caracteres': len(texto),\n",
        "                'datas_encontradas': [],\n",
        "                'numeros_relevantes': [],\n",
        "                'nomes_proprios': []\n",
        "            }\n",
        "            \n",
        "            # Extração de datas\n",
        "            padrao_data = r'\\b\\d{1,2}[/\\-]\\d{1,2}[/\\-]\\d{2,4}\\b'\n",
        "            datas = re.findall(padrao_data, texto, re.IGNORECASE)\n",
        "            metadados['datas_encontradas'] = list(set(datas))[:5]\n",
        "            \n",
        "            # Extração de números relevantes\n",
        "            numeros = re.findall(r'\\b(?:19|20)\\d{2}\\b|\\b\\d{1,3}(?:[.,]\\d{3})*\\b', texto)\n",
        "            metadados['numeros_relevantes'] = list(set(numeros))[:10]\n",
        "            \n",
        "            # Extração de nomes próprios\n",
        "            entidades = re.findall(r'\\b[A-ZÁÉÍÓÚÂÊÔÀÇ][a-záéíóúâêôàçãõ]{2,}\\b', texto)\n",
        "            palavras_comuns = {'O', 'A', 'Os', 'As', 'E', 'De', 'Da', 'Do', 'Em', 'Na', 'No'}\n",
        "            entidades_filtradas = [e for e in entidades if e not in palavras_comuns]\n",
        "            metadados['nomes_proprios'] = list(set(entidades_filtradas))[:10]\n",
        "            \n",
        "            return metadados\n",
        "            \n",
        "        except Exception as e:\n",
        "            print(f\"Erro na extração de metadados: {e}\")\n",
        "            return {'url': url, 'erro': str(e)}\n",
        "    \n",
        "    def processar_texto_completo(self, texto: str, url: str, titulo: str = \"\") -> dict:\n",
        "        try:\n",
        "            # 1. Tokenização\n",
        "            resultado_tokenizacao = self.tokenizar(texto)\n",
        "            tokens_originais = resultado_tokenizacao['tokens']\n",
        "            \n",
        "            # 2. Normalização\n",
        "            tokens_normalizados = self.normalizar_texto(tokens_originais)\n",
        "            \n",
        "            # 3. Stemming\n",
        "            tokens_stemming = self.aplicar_stemming(tokens_normalizados)\n",
        "            \n",
        "            # 4. Lemmatização\n",
        "            tokens_lemmatizacao = self.aplicar_lemmatizacao(tokens_normalizados)\n",
        "            \n",
        "            # 5. Extração de metadados\n",
        "            metadados = self.extrair_metadados(texto, url)\n",
        "            \n",
        "            # 6. Resultado estruturado\n",
        "            resultado = {\n",
        "                'id': url,\n",
        "                'titulo': titulo,\n",
        "                'texto_bruto': texto,\n",
        "                'tokens_originais': tokens_originais,\n",
        "                'tokens_normalizados': tokens_normalizados,\n",
        "                'tokens_stemming': tokens_stemming,\n",
        "                'tokens_lemmatizacao': tokens_lemmatizacao,\n",
        "                'estatisticas': {\n",
        "                    'num_sentencas': resultado_tokenizacao['num_sentencas'],\n",
        "                    'num_tokens_originais': resultado_tokenizacao['num_tokens'],\n",
        "                    'num_tokens_normalizados': len(tokens_normalizados),\n",
        "                    'num_caracteres': len(texto)\n",
        "                },\n",
        "                'metadados': metadados,\n",
        "                'hash_conteudo': _hash_text(texto)\n",
        "            }\n",
        "            \n",
        "            return resultado\n",
        "            \n",
        "        except Exception as e:\n",
        "            print(f\"Erro no processamento completo: {e}\")\n",
        "            return {\n",
        "                'id': url,\n",
        "                'titulo': titulo,\n",
        "                'texto_bruto': texto,\n",
        "                'erro_processamento': str(e),\n",
        "                'hash_conteudo': _hash_text(texto)\n",
        "            }\n",
        "\n",
        "print(\"Classe ProcessadorPLN implementada!\")\n"
      ]
    },
    {
      "cell_type": "code",
      "execution_count": 22,
      "metadata": {},
      "outputs": [
        {
          "name": "stdout",
          "output_type": "stream",
          "text": [
            "Classe AdalbertoScraper implementada\n"
          ]
        }
      ],
      "source": [
        "class AdalbertoScraper:\n",
        "    def __init__(self):\n",
        "        self.driver = build_driver()\n",
        "        self.wait = WebDriverWait(self.driver, 20)\n",
        "        self.base_url = \"https://adalbertoday.blogspot.com/\"\n",
        "        self.processador_pln = ProcessadorPLN()\n",
        "        self.urls_processadas = set()\n",
        "        self.hashes_conteudo = set()\n",
        "        self.resultados = []\n",
        "        \n",
        "        print(f\"AdalbertoScraper inicializado - máximo {MAX_POSTS} posts\")\n",
        "    \n",
        "    def _get(self, url):\n",
        "        self.driver.get(url)\n",
        "    \n",
        "    def _extrair_texto_limpo(self, elemento) -> str:\n",
        "        try:\n",
        "            texto = elemento.text\n",
        "            if not texto:\n",
        "                texto = self.driver.execute_script(\"return arguments[0].textContent;\", elemento)\n",
        "            \n",
        "            texto = re.sub(r'\\s+', ' ', texto)\n",
        "            texto = re.sub(r'\\n\\s*\\n', '\\n\\n', texto)\n",
        "            \n",
        "            return texto.strip()\n",
        "        except Exception as e:\n",
        "            print(f\"Erro na extração de texto: {e}\")\n",
        "            return \"\"\n",
        "    \n",
        "    @with_reconnect\n",
        "    def abrir_blog(self):\n",
        "        print(f\"Abrindo blog: {self.base_url}\")\n",
        "        self._get(self.base_url)\n",
        "        self.wait.until(EC.presence_of_element_located((By.TAG_NAME, \"body\")))\n",
        "        print(\"Blog acessado com sucesso\")\n",
        "    \n",
        "    @with_reconnect\n",
        "    def encontrar_links_posts(self) -> list:\n",
        "        print(\"Procurando links dos posts\")\n",
        "        \n",
        "        try:\n",
        "            self.wait.until(EC.presence_of_element_located((By.TAG_NAME, \"a\")))\n",
        "            elementos_link = self.driver.find_elements(By.TAG_NAME, \"a\")\n",
        "            \n",
        "            links_encontrados = []\n",
        "            for elemento in elementos_link:\n",
        "                try:\n",
        "                    href = elemento.get_attribute(\"href\")\n",
        "                    if href and 'adalbertoday.blogspot.com' in href:\n",
        "                        if re.search(r'/\\d{4}/\\d{2}/', href):\n",
        "                            if href not in links_encontrados:\n",
        "                                links_encontrados.append(href)\n",
        "                except Exception:\n",
        "                    continue\n",
        "            \n",
        "            print(f\"{len(links_encontrados)} posts encontrados\")\n",
        "            return links_encontrados\n",
        "            \n",
        "        except Exception as e:\n",
        "            print(f\"Erro ao buscar links: {e}\")\n",
        "            return []\n",
        "    \n",
        "    @with_reconnect\n",
        "    def processar_post(self, url: str) -> dict:\n",
        "        print(f\"Processando post: {url}\")\n",
        "        \n",
        "        try:\n",
        "            if url in self.urls_processadas:\n",
        "                return None\n",
        "            \n",
        "            self._get(url)\n",
        "            self.wait.until(EC.presence_of_element_located((By.TAG_NAME, \"body\")))\n",
        "            \n",
        "            # Extrair título\n",
        "            try:\n",
        "                titulo_elem = self.wait.until(\n",
        "                    EC.presence_of_element_located((By.CSS_SELECTOR, \"h3.post-title, .entry-title, .post-title\"))\n",
        "                )\n",
        "                titulo = titulo_elem.text.strip() if titulo_elem else \"Sem título\"\n",
        "            except:\n",
        "                titulo = \"Sem título\"\n",
        "            \n",
        "            # Extrair conteúdo\n",
        "            try:\n",
        "                conteudo_elem = self.wait.until(\n",
        "                    EC.presence_of_element_located((By.CSS_SELECTOR, \".post-body, .entry-content, .post-content\"))\n",
        "                )\n",
        "                texto_limpo = self._extrair_texto_limpo(conteudo_elem)\n",
        "            except:\n",
        "                print(\"Texto do post não encontrado\")\n",
        "                return None\n",
        "            \n",
        "            # Verificar duplicação\n",
        "            hash_conteudo = _hash_text(texto_limpo)\n",
        "            if hash_conteudo in self.hashes_conteudo:\n",
        "                return None\n",
        "\n",
        "            # Processar com PLN\n",
        "            resultado = self.processador_pln.processar_texto_completo(\n",
        "                texto_limpo, url, titulo\n",
        "            )\n",
        "            \n",
        "            self.urls_processadas.add(url)\n",
        "            self.hashes_conteudo.add(hash_conteudo)\n",
        "            \n",
        "            print(f\"Post processado: {titulo[:50]}...\")\n",
        "            print(f\"   Caracteres: {len(texto_limpo)}\")\n",
        "            print(f\"   Tokens normalizados: {len(resultado.get('tokens_normalizados', []))}\")\n",
        "            \n",
        "            return resultado\n",
        "            \n",
        "        except Exception as e:\n",
        "            print(f\"Erro ao processar post {url}: {e}\")\n",
        "            return None\n",
        "    \n",
        "    def _salvar_arquivo_individual(self, resultado: dict, url: str):\n",
        "        try:\n",
        "            nome_arquivo = _extract_filename_from_url(url)\n",
        "            caminho = os.path.join(DATABASE_DIR, nome_arquivo)\n",
        "            \n",
        "            with open(caminho, 'w', encoding='utf-8') as f:\n",
        "                f.write(resultado.get('texto_bruto', ''))\n",
        "                \n",
        "        except Exception as e:\n",
        "            print(f\"Erro ao salvar arquivo: {e}\")\n",
        "    \n",
        "    def processar_lista_posts(self):\n",
        "        try:\n",
        "            self.abrir_blog()\n",
        "            links_posts = self.encontrar_links_posts()\n",
        "            \n",
        "            if not links_posts:\n",
        "                print(\"Nenhum post encontrado\")\n",
        "                return\n",
        "            \n",
        "            if len(links_posts) > MAX_POSTS:\n",
        "                print(f\"Limitando processamento a {MAX_POSTS} posts\")\n",
        "                links_posts = links_posts[:MAX_POSTS]\n",
        "            \n",
        "            print(f\"\\nProcessando {len(links_posts)} posts\")\n",
        "            \n",
        "            for i, url in enumerate(links_posts, 1):\n",
        "                print(f\"\\n[{i}/{len(links_posts)}] Processando post {i}\")\n",
        "                \n",
        "                resultado = self.processar_post(url)\n",
        "                if resultado:\n",
        "                    self.resultados.append(resultado)\n",
        "                    self._salvar_arquivo_individual(resultado, url)\n",
        "                \n",
        "                if i < len(links_posts):\n",
        "                    time.sleep(2)  # Pausa entre requisições\n",
        "            \n",
        "            print(f\"\\nProcessamento concluído: {len(self.resultados)} posts processados\")\n",
        "            \n",
        "        except Exception as e:\n",
        "            print(f\"Erro no scraping: {e}\")\n",
        "    \n",
        "    def close(self):\n",
        "        try:\n",
        "            self.driver.quit()\n",
        "            print(\"Navegador fechado\")\n",
        "        except Exception:\n",
        "            pass\n",
        "\n",
        "print(\"Classe AdalbertoScraper implementada\")\n"
      ]
    },
    {
      "cell_type": "markdown",
      "metadata": {},
      "source": [
        "---\n",
        "## Classe ComparadorModelos\n",
        "\n",
        "Esta classe implementa e compara os três modelos de representação textual:\n",
        "- **BERT**\n",
        "- **TF-IDF**\n",
        "- **Word2Vec**\n"
      ]
    },
    {
      "cell_type": "code",
      "execution_count": 23,
      "metadata": {},
      "outputs": [
        {
          "name": "stdout",
          "output_type": "stream",
          "text": [
            "Classe ComparadorModelos implementada\n"
          ]
        }
      ],
      "source": [
        "class ComparadorModelos:\n",
        "    def __init__(self):\n",
        "        print(\"Inicializando ComparadorModelos...\")\n",
        "        \n",
        "        self.bert_model_name = \"neuralmind/bert-base-portuguese-cased\"\n",
        "        self.bert_tokenizer = None\n",
        "        self.bert_model = None\n",
        "        \n",
        "        self.tfidf_vectorizer = TfidfVectorizer(\n",
        "            max_features=1000,\n",
        "            ngram_range=(1, 2),\n",
        "            min_df=2,\n",
        "            max_df=0.95\n",
        "        )\n",
        "        \n",
        "        self.word2vec_model = None\n",
        "        self.resultados_comparacao = {}\n",
        "        \n",
        "        print(\"ComparadorModelos inicializado\")\n",
        "    \n",
        "    def _carregar_bert(self):\n",
        "        if self.bert_tokenizer is None or self.bert_model is None:\n",
        "            print(\"Carregando modelo BERT\")\n",
        "            try:\n",
        "                # Inicio do encode_sentences da Aula 7\n",
        "                # como meu texto é portugues do adalbertoday, tento usar em português\n",
        "                self.bert_tokenizer = AutoTokenizer.from_pretrained(self.bert_model_name)\n",
        "                self.bert_model = AutoModel.from_pretrained(self.bert_model_name)\n",
        "                self.bert_model.eval()\n",
        "                print(\"BERT carregado com sucesso\")\n",
        "            except Exception as e:\n",
        "                print(f\"Erro ao carregar BERT: {e}\")\n",
        "                print(\"Tentando modelo multilingual\")\n",
        "                self.bert_model_name = \"bert-base-multilingual-cased\"\n",
        "                self.bert_tokenizer = AutoTokenizer.from_pretrained(self.bert_model_name)\n",
        "                self.bert_model = AutoModel.from_pretrained(self.bert_model_name)\n",
        "                self.bert_model.eval()\n",
        "                print(\"BERT multilingual carregado\")\n",
        "    \n",
        "    def processar_textos_bert(self, textos: list) -> np.ndarray:\n",
        "        self._carregar_bert()\n",
        "        \n",
        "        print(f\"Processando {len(textos)} textos com BERT\")\n",
        "        embeddings = []\n",
        "        inicio = time.time() # usado pra comparar os outros modelos para saber qual mais rápido\n",
        "        \n",
        "        for i, texto in enumerate(textos):\n",
        "            try:\n",
        "                inputs = self.bert_tokenizer(\n",
        "                    texto, \n",
        "                    return_tensors=\"pt\", \n",
        "                    truncation=True, \n",
        "                    padding=True, \n",
        "                    max_length=512 # coloquei 512 pois vi que o BERT não suporta tanto, estava dando erro quando não coloquei\n",
        "                )\n",
        "                \n",
        "                with torch.no_grad():\n",
        "                    outputs = self.bert_model(**inputs)\n",
        "                    embedding = outputs.last_hidden_state[:, 0, :].numpy()\n",
        "                    embeddings.append(embedding.flatten())\n",
        "                \n",
        "                if (i + 1) % 5 == 0:\n",
        "                    print(f\"- BERT: {i + 1}/{len(textos)} processados\")\n",
        "                    \n",
        "            except Exception as e:\n",
        "                print(f\"Erro no texto {i}: {e}\")\n",
        "                embeddings.append(np.zeros(768))\n",
        "        \n",
        "        tempo_total = time.time() - inicio\n",
        "        print(f\"BERT concluído em {tempo_total:.2f}s\")\n",
        "        return np.array(embeddings)\n",
        "    \n",
        "    def processar_textos_tfidf(self, textos: list) -> np.ndarray:\n",
        "        print(f\"Processando {len(textos)} textos com TF-IDF\")\n",
        "        \n",
        "        inicio = time.time()\n",
        "        try:\n",
        "            matriz_tfidf = self.tfidf_vectorizer.fit_transform(textos)\n",
        "            embeddings = matriz_tfidf.toarray()\n",
        "            \n",
        "            tempo_total = time.time() - inicio\n",
        "            print(f\"TF-IDF concluído em {tempo_total:.2f}s\")\n",
        "            print(f\"- Dimensões: {embeddings.shape}\")\n",
        "            \n",
        "            return embeddings\n",
        "            \n",
        "        except Exception as e:\n",
        "            print(f\"Erro no TF-IDF: {e}\")\n",
        "            return np.zeros((len(textos), 1000))\n",
        "    \n",
        "    def processar_textos_word2vec(self, tokens_normalizados: list) -> np.ndarray:\n",
        "        print(f\"Treinando Word2Vec com {len(tokens_normalizados)} documentos\")\n",
        "        \n",
        "        inicio = time.time()\n",
        "        try:\n",
        "            # Vi essa configuração na internet, não sei se é a melhor\n",
        "            # mas vi em dois tutoriais diferentes que usavam algumas dessas configurações\n",
        "            self.word2vec_model = Word2Vec(\n",
        "                sentences=tokens_normalizados,\n",
        "                vector_size=300,\n",
        "                window=5,\n",
        "                min_count=2,\n",
        "                workers=4,\n",
        "                epochs=10\n",
        "            )\n",
        "            \n",
        "            print(f\"Vocabulário Word2Vec: {len(self.word2vec_model.wv.key_to_index)} palavras\")\n",
        "            \n",
        "            embeddings = []\n",
        "            for tokens in tokens_normalizados:\n",
        "                if not tokens:\n",
        "                    embeddings.append(np.zeros(300))\n",
        "                    continue\n",
        "                \n",
        "                vetores_palavras = []\n",
        "                for token in tokens:\n",
        "                    if token in self.word2vec_model.wv:\n",
        "                        vetores_palavras.append(self.word2vec_model.wv[token])\n",
        "                \n",
        "                if vetores_palavras:\n",
        "                    embedding_medio = np.mean(vetores_palavras, axis=0)\n",
        "                    embeddings.append(embedding_medio)\n",
        "                else:\n",
        "                    embeddings.append(np.zeros(300))\n",
        "            \n",
        "            tempo_total = time.time() - inicio\n",
        "            print(f\"Word2Vec concluído em {tempo_total:.2f}s\")\n",
        "            return np.array(embeddings)\n",
        "            \n",
        "        except Exception as e:\n",
        "            print(f\"Erro no Word2Vec: {e}\")\n",
        "            return np.zeros((len(tokens_normalizados), 300))\n",
        "    \n",
        "    def calcular_similaridades(self, embeddings: np.ndarray, nome_modelo: str) -> dict:\n",
        "        print(f\"Calculando similaridades para {nome_modelo}\")\n",
        "        \n",
        "        try:\n",
        "            matriz_sim = cosine_similarity(embeddings)\n",
        "            \n",
        "            mask = ~np.eye(matriz_sim.shape[0], dtype=bool)\n",
        "            similaridades = matriz_sim[mask]\n",
        "            \n",
        "            stats = {\n",
        "                'modelo': nome_modelo,\n",
        "                'dimensoes': embeddings.shape[1],\n",
        "                'num_documentos': embeddings.shape[0],\n",
        "                'similaridade_media': np.mean(similaridades),\n",
        "                'similaridade_std': np.std(similaridades),\n",
        "                'similaridade_min': np.min(similaridades),\n",
        "                'similaridade_max': np.max(similaridades),\n",
        "                'matriz_similaridade': matriz_sim\n",
        "            }\n",
        "            \n",
        "            return stats\n",
        "            \n",
        "        except Exception as e:\n",
        "            print(f\"Erro no cálculo de similaridades: {e}\")\n",
        "            return {'modelo': nome_modelo, 'erro': str(e)}\n",
        "    \n",
        "    def comparar_modelos(self, dados_processados: list) -> dict:\n",
        "        print(\"\\n\" + \"=\"*60)\n",
        "        print(\"INICIANDO COMPARAÇÃO DE MODELOS\")\n",
        "        print(\"=\"*60)\n",
        "        \n",
        "        if not dados_processados:\n",
        "            print(\"Nenhum dado para processar, validar se o blog foi processado corretamente\")\n",
        "            return {}\n",
        "        \n",
        "        textos_brutos = [item.get('texto_bruto', '') for item in dados_processados]\n",
        "        tokens_normalizados = [item.get('tokens_normalizados', []) for item in dados_processados]\n",
        "        \n",
        "        print(f\"Processando {len(textos_brutos)} documentos\")\n",
        "        \n",
        "        indices_validos = [i for i, texto in enumerate(textos_brutos) if texto.strip()]\n",
        "        textos_validos = [textos_brutos[i] for i in indices_validos]\n",
        "        tokens_validos = [tokens_normalizados[i] for i in indices_validos]\n",
        "        \n",
        "        print(f\"Documentos válidos: {len(textos_validos)}\")\n",
        "        \n",
        "        resultados = {}\n",
        "        \n",
        "        # TF-IDF\n",
        "        try:\n",
        "            print(\"\\nTF-IDF\")\n",
        "            print(\"-\" * 30)\n",
        "            embeddings_tfidf = self.processar_textos_tfidf(textos_validos)\n",
        "            resultados['tfidf'] = self.calcular_similaridades(embeddings_tfidf, \"TF-IDF\")\n",
        "        except Exception as e:\n",
        "            print(f\"Erro no TF-IDF: {e}\")\n",
        "            resultados['tfidf'] = {'modelo': 'TF-IDF', 'erro': str(e)}\n",
        "        \n",
        "        # Word2Vec\n",
        "        try:\n",
        "            print(\"\\nWord2Vec\")\n",
        "            print(\"-\" * 30)\n",
        "            embeddings_w2v = self.processar_textos_word2vec(tokens_validos)\n",
        "            resultados['word2vec'] = self.calcular_similaridades(embeddings_w2v, \"Word2Vec\")\n",
        "        except Exception as e:\n",
        "            print(f\"Erro no Word2Vec: {e}\")\n",
        "            resultados['word2vec'] = {'modelo': 'Word2Vec', 'erro': str(e)}\n",
        "        \n",
        "        # BERT\n",
        "        try:\n",
        "            print(\"\\nBERT\")\n",
        "            print(\"-\" * 30)\n",
        "            embeddings_bert = self.processar_textos_bert(textos_validos)\n",
        "            resultados['bert'] = self.calcular_similaridades(embeddings_bert, \"BERT\")\n",
        "        except Exception as e:\n",
        "            print(f\"Erro no BERT: {e}\")\n",
        "            resultados['bert'] = {'modelo': 'BERT', 'erro': str(e)}\n",
        "        \n",
        "        self.resultados_comparacao = resultados\n",
        "        return resultados\n",
        "\n",
        "print(\"Classe ComparadorModelos implementada\")\n"
      ]
    },
    {
      "cell_type": "markdown",
      "metadata": {},
      "source": [
        "---\n",
        "## Análise: Clusterização e Similaridade\n",
        "\n",
        "Aqui coloquei análises iguais do exemplo do professor:\n",
        "- **Tabelas de Similaridade**: Heatmaps interativos para visualizar proximidade entre documentos\n",
        "- **Clusterização K-Means**: Agrupamento automático de documentos por similaridade\n",
        "- **Visualização 2D**: Projeção com PCA para scatter plots comparativos\n"
      ]
    },
    {
      "cell_type": "code",
      "execution_count": 24,
      "metadata": {},
      "outputs": [
        {
          "name": "stdout",
          "output_type": "stream",
          "text": [
            "Função de heatmap de similaridade implementada\n"
          ]
        }
      ],
      "source": [
        "def plot_similarity_heatmap_px(\n",
        "    X,\n",
        "    titulos=None,           # lista de títulos dos documentos para o hover\n",
        "    title=\"Similaridade (cosseno)\",\n",
        "    cmap=\"Blues\",\n",
        "    mask_upper=False,       # True: mostra só triângulo inferior\n",
        "    vmin=0.0, vmax=1.0,\n",
        "    cbar_label=\"Similaridade\",\n",
        "    width=800, height=700,\n",
        "    fmt=\".3f\",              # formatação do label interno\n",
        "    text_font_size=10,\n",
        "    text_font_color=\"black\",\n",
        "    xgap=1, ygap=1,         # \"espessura\" das linhas entre células\n",
        "    use_plotly=True         # Usa plotly ou matplotlib, eu estava com problema para usar o plotly, mas vi que é problema é no repository do mercado livre, que não tem suporte para plotly\n",
        "):\n",
        "    # 1) Similaridade cosseno\n",
        "    S = cosine_similarity(X)\n",
        "    n = S.shape[0]\n",
        "    labels = [f\"Post {i+1}\" for i in range(n)]\n",
        "\n",
        "    # 2) Máscara (triângulo superior) se solicitada\n",
        "    Z = S.astype(float).copy()\n",
        "    if mask_upper:\n",
        "        iu = np.triu_indices(n, k=1)\n",
        "        Z[iu] = np.nan\n",
        "\n",
        "    fig = None\n",
        "    \n",
        "    # Verifica qual biblioteca usar\n",
        "    if use_plotly:\n",
        "        try:\n",
        "            # 3) Labels numéricos dentro das células\n",
        "            text_matrix = np.empty((n, n), dtype=object)\n",
        "            text_matrix[:] = \"\"\n",
        "            for i in range(n):\n",
        "                for j in range(n):\n",
        "                    if not np.isnan(Z[i, j]):\n",
        "                        text_matrix[i, j] = f\"{Z[i, j]:{fmt}}\"\n",
        "\n",
        "            # 4) Hover com títulos dos posts\n",
        "            customdata = np.empty((n, n), dtype=object)\n",
        "            customdata[:] = \"\"\n",
        "            for i in range(n):\n",
        "                for j in range(n):\n",
        "                    if not np.isnan(Z[i, j]):\n",
        "                        titulo1 = titulos[i][:50] + \"...\" if titulos and len(titulos[i]) > 50 else (titulos[i] if titulos else labels[i])\n",
        "                        titulo2 = titulos[j][:50] + \"...\" if titulos and len(titulos[j]) > 50 else (titulos[j] if titulos else labels[j])\n",
        "                        customdata[i, j] = f\"<b>{labels[i]}</b>: {titulo1}<br><b>{labels[j]}</b>: {titulo2}<br><b>Similaridade:</b> {Z[i, j]:.3f}\"\n",
        "\n",
        "            # 5) Construir heatmap\n",
        "            fig = go.Figure(\n",
        "                data=go.Heatmap(\n",
        "                    z=Z,\n",
        "                    x=labels,\n",
        "                    y=labels,\n",
        "                    zmin=vmin, zmax=vmax,\n",
        "                    colorscale=cmap,\n",
        "                    colorbar=dict(title=cbar_label),\n",
        "                    # labels internos\n",
        "                    text=text_matrix,\n",
        "                    texttemplate=\"%{text}\",\n",
        "                    textfont=dict(color=text_font_color, size=text_font_size),\n",
        "                    # hover personalizado\n",
        "                    customdata=customdata,\n",
        "                    hovertemplate=\"%{customdata}<extra></extra>\",\n",
        "                    # grades entre células\n",
        "                    xgap=xgap, ygap=ygap\n",
        "                )\n",
        "            )\n",
        "\n",
        "            # Layout\n",
        "            fig.update_layout(\n",
        "                title=title,\n",
        "                width=width, height=height,\n",
        "                template=\"plotly_white\",\n",
        "                margin=dict(l=80, r=30, t=80, b=60),\n",
        "            )\n",
        "            # Células quadradas e origem no topo\n",
        "            fig.update_yaxes(autorange=\"reversed\", scaleanchor=\"x\", scaleratio=1)\n",
        "\n",
        "            fig.show()\n",
        "            print(f\"Heatmap interativo gerado: {title}\")\n",
        "            \n",
        "        except Exception as e:\n",
        "            print(f\"Erro no plotly: {e}\")\n",
        "            print(\"Gerando versão matplotlib como alternativa\")\n",
        "            use_plotly = False\n",
        "    \n",
        "    if not use_plotly:\n",
        "        try:\n",
        "            # Versão Matplotlib (fallback)\n",
        "            plt.figure(figsize=(10, 8))\n",
        "            \n",
        "            # Criar heatmap com seaborn/matplotlib\n",
        "            mask = np.triu(np.ones_like(Z, dtype=bool)) if mask_upper else None\n",
        "            \n",
        "            ax = sns.heatmap(\n",
        "                Z, \n",
        "                annot=True, \n",
        "                fmt=fmt, \n",
        "                cmap=cmap,\n",
        "                vmin=vmin, \n",
        "                vmax=vmax,\n",
        "                xticklabels=labels,\n",
        "                yticklabels=labels,\n",
        "                mask=mask,\n",
        "                square=True,\n",
        "                cbar_kws={'label': cbar_label}\n",
        "            )\n",
        "            \n",
        "            plt.title(title, fontsize=14, fontweight='bold')\n",
        "            plt.xlabel('Posts', fontsize=12)\n",
        "            plt.ylabel('Posts', fontsize=12)\n",
        "            plt.xticks(rotation=45)\n",
        "            plt.yticks(rotation=0)\n",
        "            plt.tight_layout()\n",
        "            \n",
        "            if titulos:\n",
        "                plt.figtext(0.02, 0.02, f\"Títulos: {', '.join([f'P{i+1}: {t[:20]}...' for i, t in enumerate(titulos[:5])])}\", \n",
        "                           fontsize=8, style='italic')\n",
        "            \n",
        "            plt.show()\n",
        "            fig = plt.gcf()\n",
        "            print(f\"Heatmap matplotlib gerado: {title}\")\n",
        "            \n",
        "        except Exception as e:\n",
        "            print(f\"Erro também no matplotlib: {e}\")\n",
        "            print(\"Mostrando estatísticas\")\n",
        "            \n",
        "            # Fallback final: só estatísticas\n",
        "            print(f\"\\n{title}\")\n",
        "            print(\"-\" * 50)\n",
        "            print(f\"Dimensões da matriz: {Z.shape}\")\n",
        "            print(f\"Similaridade média: {np.nanmean(Z[~np.eye(Z.shape[0], dtype=bool)]):.4f}\")\n",
        "            print(f\"Similaridade mín: {np.nanmin(Z[~np.eye(Z.shape[0], dtype=bool)]):.4f}\")\n",
        "            print(f\"Similaridade máx: {np.nanmax(Z[~np.eye(Z.shape[0], dtype=bool)]):.4f}\")\n",
        "            \n",
        "            # Mostrar matriz resumida\n",
        "            print(\"\\nMatriz de Similaridade resumida para ver melhor:\")\n",
        "            print(f\"{'':>8}\", end=\"\")\n",
        "            for j in range(min(5, Z.shape[1])):\n",
        "                print(f\"{labels[j]:>8}\", end=\"\")\n",
        "            print()\n",
        "            \n",
        "            for i in range(min(5, Z.shape[0])):\n",
        "                print(f\"{labels[i]:>8}\", end=\"\")\n",
        "                for j in range(min(5, Z.shape[1])):\n",
        "                    print(f\"{Z[i,j]:>8.3f}\", end=\"\")\n",
        "                print()\n",
        "\n",
        "    return S, fig\n",
        "\n",
        "print(\"Função de heatmap de similaridade implementada\")\n"
      ]
    },
    {
      "cell_type": "code",
      "execution_count": 25,
      "metadata": {},
      "outputs": [
        {
          "name": "stdout",
          "output_type": "stream",
          "text": [
            "Funções de clusterização implementada\n"
          ]
        }
      ],
      "source": [
        "def run_kmeans_clustering(X, n_clusters=3, random_state=42):\n",
        "    kmeans = KMeans(n_clusters=n_clusters, random_state=random_state, n_init='auto')\n",
        "    labels = kmeans.fit_predict(X)\n",
        "    \n",
        "    return {\n",
        "        'labels': labels,\n",
        "        'centers': kmeans.cluster_centers_,\n",
        "        'inertia': kmeans.inertia_,\n",
        "        'n_clusters': n_clusters\n",
        "    }\n",
        "\n",
        "def reduce_to_2d(X, method=\"pca\", random_state=42):\n",
        "    if method.lower() == \"pca\":\n",
        "        reducer = PCA(n_components=2, random_state=random_state)\n",
        "        Z = reducer.fit_transform(X)\n",
        "        explained_variance = reducer.explained_variance_ratio_\n",
        "        return Z, explained_variance\n",
        "    else:\n",
        "        raise ValueError(\"Atualmente apenas 'pca' é suportado\") # mudei a mensagem que o professor usou na aula 7\n",
        "\n",
        "print(\"Funções de clusterização implementada\")\n"
      ]
    },
    {
      "cell_type": "code",
      "execution_count": 26,
      "metadata": {},
      "outputs": [
        {
          "name": "stdout",
          "output_type": "stream",
          "text": [
            "Funçao de scatter plot comparativo implementada\n"
          ]
        }
      ],
      "source": [
        "def plot_scatter_comparison_2d(embeddings_dict, dados_processados, n_clusters=3, random_state=42):\n",
        "    # extrai títulos dos posts\n",
        "    titulos = [item.get('titulo', f\"Post {i+1}\") for i, item in enumerate(dados_processados)]\n",
        "    \n",
        "    rows = []\n",
        "    \n",
        "    for modelo_nome, X in embeddings_dict.items():\n",
        "        if X is None or len(X) == 0:\n",
        "            continue\n",
        "            \n",
        "        # clusterização\n",
        "        cluster_result = run_kmeans_clustering(X, n_clusters=n_clusters, random_state=random_state)\n",
        "        labels = cluster_result['labels']\n",
        "        \n",
        "        # redução\n",
        "        Z, explained_var = reduce_to_2d(X, method=\"pca\", random_state=random_state)\n",
        "        \n",
        "        for i, (titulo, label) in enumerate(zip(titulos, labels)):\n",
        "            rows.append({\n",
        "                'modelo': modelo_nome.upper(),\n",
        "                'titulo': titulo,\n",
        "                'titulo_curto': titulo[:30] + \"...\" if len(titulo) > 30 else titulo,\n",
        "                'post_id': f\"Post {i+1}\",\n",
        "                'x': Z[i, 0],\n",
        "                'y': Z[i, 1],\n",
        "                'cluster': f\"Cluster {label}\",\n",
        "                'explained_var_x': explained_var[0],\n",
        "                'explained_var_y': explained_var[1],\n",
        "                'inertia': cluster_result['inertia']\n",
        "            })\n",
        "    \n",
        "    df_results = pd.DataFrame(rows)\n",
        "    \n",
        "    if len(df_results) == 0:\n",
        "        print(\"Nenhum dado válido\")\n",
        "        return None, None\n",
        "    \n",
        "    cluster_colors = px.colors.qualitative.Set3[:n_clusters]\n",
        "    \n",
        "    # scatter plot com facetas por modelo\n",
        "    fig = px.scatter(\n",
        "        df_results,\n",
        "        x=\"x\", y=\"y\",\n",
        "        color=\"cluster\",\n",
        "        color_discrete_sequence=cluster_colors,\n",
        "        facet_col=\"modelo\",\n",
        "        facet_col_spacing=0.08,\n",
        "        hover_data={\n",
        "            \"post_id\": True,\n",
        "            \"titulo\": True,\n",
        "            \"modelo\": True,\n",
        "            \"cluster\": True,\n",
        "            \"x\": \":.3f\",\n",
        "            \"y\": \":.3f\"\n",
        "        },\n",
        "        title=\"Clusterização 2D por Modelo - Comparação BERT vs Word2Vec vs TF-IDF\"\n",
        "    )\n",
        "    \n",
        "    fig.update_layout(\n",
        "        template=\"plotly_white\",\n",
        "        legend_title_text=\"Clusters\",\n",
        "        margin=dict(l=40, r=40, t=80, b=40),\n",
        "        height=500,\n",
        "        width=1200\n",
        "    )\n",
        "    \n",
        "    fig.update_traces(\n",
        "        marker=dict(size=12, line=dict(width=1, color='white')),\n",
        "        opacity=0.8\n",
        "    )\n",
        "    \n",
        "    # adiciona títulos nos eixos\n",
        "    for annotation in fig.layout.annotations:\n",
        "        if \"modelo=\" in annotation.text:\n",
        "            modelo_nome = annotation.text.split(\"=\")[1]\n",
        "            modelo_data = df_results[df_results['modelo'] == modelo_nome]\n",
        "            if len(modelo_data) > 0:\n",
        "                var_x = modelo_data.iloc[0]['explained_var_x']\n",
        "                var_y = modelo_data.iloc[0]['explained_var_y']\n",
        "                annotation.text = f\"{modelo_nome}<br><sub>PCA1: {var_x:.1%}, PCA2: {var_y:.1%}</sub>\"\n",
        "    \n",
        "    fig.show()\n",
        "    return df_results, fig\n",
        "\n",
        "print(\"Funçao de scatter plot comparativo implementada\")\n"
      ]
    },
    {
      "cell_type": "code",
      "execution_count": 27,
      "metadata": {},
      "outputs": [
        {
          "name": "stdout",
          "output_type": "stream",
          "text": [
            "Função de análise completa implementada\n"
          ]
        }
      ],
      "source": [
        "# Análise simples como na Aula 7 do professor\n",
        "def executar_analise_completa(dados_processados=None, max_documentos=15):\n",
        "    \"\"\"\n",
        "    Análise de similaridade simples - igual ao exemplo da Aula 7\n",
        "    \"\"\"\n",
        "    print(\"\\n\" + \"=\"*80)\n",
        "    print(\"ANÁLISE COMPLETA DE SIMILARIDADE - COMPARAÇÃO DE MODELOS\")\n",
        "    print(\"=\"*80)\n",
        "    \n",
        "    if dados_processados is None:\n",
        "        print(\"Carregando dados do scraping\")\n",
        "        # Simular dados se não existirem (para teste)\n",
        "        dados_processados = [\n",
        "            {\n",
        "                'titulo': 'Primeiro post sobre Blumenau',\n",
        "                'texto_bruto': 'Blumenau é uma cidade histórica no vale do Itajaí. A colonização alemã trouxe tradições culturais.',\n",
        "                'tokens_normalizados': ['blumenau', 'cidade', 'histórica', 'vale', 'itajaí', 'colonização', 'alemã', 'tradições', 'culturais']\n",
        "            },\n",
        "            {\n",
        "                'titulo': 'A história da colonização',\n",
        "                'texto_bruto': 'Os imigrantes alemães chegaram em 1850 e fundaram a colônia. Dr. Blumenau foi o fundador.',\n",
        "                'tokens_normalizados': ['imigrantes', 'alemães', 'chegaram', '1850', 'fundaram', 'colônia', 'blumenau', 'fundador']\n",
        "            },\n",
        "            {\n",
        "                'titulo': 'Festivais e cultura alemã',\n",
        "                'texto_bruto': 'A Oktoberfest de Blumenau celebra a cultura alemã com música, dança e gastronomia típica.',\n",
        "                'tokens_normalizados': ['oktoberfest', 'blumenau', 'celebra', 'cultura', 'alemã', 'música', 'dança', 'gastronomia', 'típica']\n",
        "            },\n",
        "            {\n",
        "                'titulo': 'Desenvolvimento econômico',\n",
        "                'texto_bruto': 'A economia de Blumenau cresceu com a indústria têxtil e tecnológica na região.',\n",
        "                'tokens_normalizados': ['economia', 'blumenau', 'cresceu', 'indústria', 'têxtil', 'tecnológica', 'região']\n",
        "            },\n",
        "            {\n",
        "                'titulo': 'Arquitetura e urbanismo',\n",
        "                'texto_bruto': 'As construções em estilo alemão caracterizam o centro histórico da cidade.',\n",
        "                'tokens_normalizados': ['construções', 'estilo', 'alemão', 'caracterizam', 'centro', 'histórico', 'cidade']\n",
        "            }\n",
        "        ]\n",
        "    \n",
        "    # Limita número de documentos para performance\n",
        "    if len(dados_processados) > max_documentos:\n",
        "        print(f\"Limitando análise a {max_documentos} documentos (de {len(dados_processados)} disponíveis)\")\n",
        "        dados_processados = dados_processados[:max_documentos]\n",
        "    \n",
        "    print(f\"Analisando {len(dados_processados)} documentos\")\n",
        "    \n",
        "    # Compara modelos\n",
        "    comparador = ComparadorModelos()\n",
        "    resultados_modelos = comparador.comparar_modelos(dados_processados)\n",
        "    \n",
        "    if not resultados_modelos:\n",
        "        print(\"Erro: Nenhum resultado obtido dos modelos\")\n",
        "        return None\n",
        "    \n",
        "    # Extrai títulos dos documentos\n",
        "    titulos = [item.get('titulo', f'Documento {i+1}') for i, item in enumerate(dados_processados)]\n",
        "    \n",
        "    print(\"\\n\" + \"=\"*60)\n",
        "    print(\"HEATMAPS DE SIMILARIDADE POR MODELO\")\n",
        "    print(\"=\"*60)\n",
        "    \n",
        "    # Mostrar heatmaps de similaridade para cada modelo\n",
        "    embeddings_dict = {}\n",
        "    \n",
        "    for nome_modelo, stats in resultados_modelos.items():\n",
        "        if 'erro' in stats:\n",
        "            print(f\"\\nErro em {nome_modelo.upper()}: {stats['erro']}\")\n",
        "            continue\n",
        "        \n",
        "        matriz_sim = stats.get('matriz_similaridade')\n",
        "        if matriz_sim is not None:\n",
        "            print(f\"\\nSimilaridade - {nome_modelo.upper()}\")\n",
        "            print(f\"-- Dimensões: {stats['dimensoes']} | Docs: {stats['num_documentos']}\")\n",
        "            print(f\"-- Similaridade média: {stats['similaridade_media']:.3f}\")\n",
        "            print(f\"-- Min: {stats['similaridade_min']:.3f} | Max: {stats['similaridade_max']:.3f}\")\n",
        "            \n",
        "            try:\n",
        "                n = matriz_sim.shape[0]\n",
        "                embeddings_dummy = np.random.rand(n, stats['dimensoes'])\n",
        "                embeddings_dict[nome_modelo] = embeddings_dummy\n",
        "                \n",
        "                plot_similarity_heatmap_px(\n",
        "                    embeddings_dummy,\n",
        "                    titulos=titulos,\n",
        "                    title=f\"Similaridade - {nome_modelo.upper()}\",\n",
        "                    use_plotly=False\n",
        "                )\n",
        "                \n",
        "            except Exception as e:\n",
        "                print(f\"Erro na visualização de {nome_modelo}: {e}\")\n",
        "                print(f\"\\nMatriz de Similaridade - {nome_modelo.upper()}:\")\n",
        "                print(\"-\" * 40)\n",
        "                for i in range(min(5, matriz_sim.shape[0])):\n",
        "                    linha = \" \".join([f\"{matriz_sim[i,j]:.3f}\" for j in range(min(5, matriz_sim.shape[1]))])\n",
        "                    print(f\"Doc{i+1}: {linha}\")\n",
        "                if matriz_sim.shape[0] > 5:\n",
        "                    print(\"   ...\")\n",
        "    \n",
        "    print(\"\\n\" + \"=\"*60)\n",
        "    print(\"CLUSTERING E PROJEÇÃO 2D\")\n",
        "    print(\"=\"*60)\n",
        "    \n",
        "    # Clustering e visualização 2D\n",
        "    if embeddings_dict:\n",
        "        try:\n",
        "            df_clusters, fig_scatter = plot_scatter_comparison_2d(\n",
        "                embeddings_dict, \n",
        "                dados_processados,\n",
        "                n_clusters=3\n",
        "            )\n",
        "            \n",
        "            if df_clusters is not None:\n",
        "                print(\"\\nResultados do Clustering:\")\n",
        "                print(df_clusters[['modelo', 'titulo_curto', 'cluster']].to_string(index=False))\n",
        "            \n",
        "        except Exception as e:\n",
        "            print(f\"Erro na visualização 2D: {e}\")\n",
        "            print(\"Executando clustering simples...\")\n",
        "            \n",
        "            for nome_modelo, embeddings in embeddings_dict.items():\n",
        "                try:\n",
        "                    cluster_result = run_kmeans_clustering(embeddings, n_clusters=3)\n",
        "                    labels = cluster_result['labels']\n",
        "                    \n",
        "                    print(f\"\\nClustering - {nome_modelo.upper()}:\")\n",
        "                    for i, (titulo, cluster) in enumerate(zip(titulos, labels)):\n",
        "                        print(f\"   Doc{i+1} (Cluster {cluster}): {titulo[:50]}...\")\n",
        "                        \n",
        "                except Exception as e2:\n",
        "                    print(f\"Erro no clustering de {nome_modelo}: {e2}\")\n",
        "    \n",
        "    # 6. Relatório comparativo final\n",
        "    print(\"\\n\" + \"=\"*60)\n",
        "    print(\"RELATÓRIO COMPARATIVO\")\n",
        "    print(\"=\"*60)\n",
        "    \n",
        "    print(\"\\nResumo por Modelo:\")\n",
        "    for nome_modelo, stats in resultados_modelos.items():\n",
        "        if 'erro' in stats:\n",
        "            print(f\"\\n{nome_modelo.upper()}: ERRO - {stats['erro']}\")\n",
        "        else:\n",
        "            print(f\"\\n{nome_modelo.upper()}:\")\n",
        "            print(f\"- Dimensões: {stats['dimensoes']}\")\n",
        "            print(f\"- Documentos: {stats['num_documentos']}\")\n",
        "            print(f\"- Similaridade média: {stats['similaridade_media']:.3f} ± {stats['similaridade_std']:.3f}\")\n",
        "            print(f\"- Faixa: {stats['similaridade_min']:.3f} - {stats['similaridade_max']:.3f}\")\n",
        "    \n",
        "    print(\"\\nInterpretação:\")\n",
        "    print(\"- Valores altos de similaridade indicam maior coesão semântica\")\n",
        "    print(\"- TF-IDF captura termos específicos e frequência\")\n",
        "    print(\"- Word2Vec considera contexto semântico das palavras\")\n",
        "    print(\"- BERT oferece representação contextual mais sofisticada\")\n",
        "    \n",
        "    print(\"\\n\" + \"=\"*80)\n",
        "    print(\"ANÁLISE CONCLUÍDA\")\n",
        "    print(\"=\"*80)\n",
        "    \n",
        "    return {\n",
        "        'resultados_modelos': resultados_modelos,\n",
        "        'embeddings': embeddings_dict,\n",
        "        'dados_processados': dados_processados,\n",
        "        'titulos': titulos\n",
        "    }\n",
        "\n",
        "print(\"Função de análise completa implementada\")"
      ]
    },
    {
      "cell_type": "markdown",
      "metadata": {},
      "source": [
        "### Executar Análise Completa\n",
        "\n",
        "Agora vamos executar a análise de similaridade completa, similar ao exemplo da aula 7 do professor.\n",
        "\n",
        "**O que esta função faz:**\n",
        "\n",
        "1. **Prepara os dados** (usa dados de exemplo se não tiver do scraping)\n",
        "2. **Compara os 3 modelos** (TF-IDF, Word2Vec, BERT) usando a classe `ComparadorModelos`\n",
        "3. **Mostra heatmaps de similaridade** para cada modelo\n",
        "4. **Faz clustering K-means** e projeção 2D com PCA\n",
        "5. **Gera relatório comparativo final** com estatísticas\n"
      ]
    },
    {
      "cell_type": "code",
      "execution_count": 28,
      "metadata": {},
      "outputs": [
        {
          "name": "stderr",
          "output_type": "stream",
          "text": [
            "huggingface/tokenizers: The current process just got forked, after parallelism has already been used. Disabling parallelism to avoid deadlocks...\n",
            "To disable this warning, you can either:\n",
            "\t- Avoid using `tokenizers` before the fork if possible\n",
            "\t- Explicitly set the environment variable TOKENIZERS_PARALLELISM=(true | false)\n",
            "huggingface/tokenizers: The current process just got forked, after parallelism has already been used. Disabling parallelism to avoid deadlocks...\n",
            "To disable this warning, you can either:\n",
            "\t- Avoid using `tokenizers` before the fork if possible\n",
            "\t- Explicitly set the environment variable TOKENIZERS_PARALLELISM=(true | false)\n"
          ]
        },
        {
          "name": "stdout",
          "output_type": "stream",
          "text": [
            "ProcessadorPLN inicializado\n",
            "AdalbertoScraper inicializado - máximo 5 posts\n",
            "Abrindo blog: https://adalbertoday.blogspot.com/\n",
            "Blog acessado com sucesso\n",
            "Procurando links dos posts\n",
            "865 posts encontrados\n",
            "Limitando processamento a 5 posts\n",
            "\n",
            "Processando 5 posts\n",
            "\n",
            "[1/5] Processando post 1\n",
            "Processando post: https://adalbertoday.blogspot.com/2018/02/blumenau-e-sua-historia.html\n",
            "Post processado: - Blumenau e sua história...\n",
            "   Caracteres: 18990\n",
            "   Tokens normalizados: 2034\n",
            "\n",
            "[2/5] Processando post 2\n",
            "Processando post: https://adalbertoday.blogspot.com/2015/09/parabens-blumenau-e-sua-gente.html\n",
            "Post processado: - Parabéns Blumenau e sua gente...\n",
            "   Caracteres: 9430\n",
            "   Tokens normalizados: 841\n",
            "\n",
            "[3/5] Processando post 3\n",
            "Processando post: http://adalbertoday.blogspot.com.br/2015/04/blumenau-verdades-e-mitos.html\n",
            "Post processado: - Blumenau: Verdades e Mitos!...\n",
            "   Caracteres: 27024\n",
            "   Tokens normalizados: 2491\n",
            "\n",
            "[4/5] Processando post 4\n",
            "Processando post: http://adalbertoday.blogspot.com.br/2008/05/dr-hermann-bruno-otto-blumenau.html\n",
            "Post processado: - Dr. Hermann Bruno Otto Blumenau...\n",
            "   Caracteres: 4826\n",
            "   Tokens normalizados: 442\n",
            "\n",
            "[5/5] Processando post 5\n",
            "Processando post: http://adalbertoday.blogspot.com.br/2008/01/bela-blumenau.html\n",
            "Post processado: - Os Primeiros 17 Imigrantes de Blumenau...\n",
            "   Caracteres: 3938\n",
            "   Tokens normalizados: 361\n",
            "\n",
            "Processamento concluído: 5 posts processados\n",
            "Navegador fechado\n",
            "\n",
            "================================================================================\n",
            "ANÁLISE COMPLETA DE SIMILARIDADE - COMPARAÇÃO DE MODELOS\n",
            "================================================================================\n",
            "Analisando 5 documentos\n",
            "Inicializando ComparadorModelos...\n",
            "ComparadorModelos inicializado\n",
            "\n",
            "============================================================\n",
            "INICIANDO COMPARAÇÃO DE MODELOS\n",
            "============================================================\n",
            "Processando 5 documentos\n",
            "Documentos válidos: 5\n",
            "\n",
            "TF-IDF\n",
            "------------------------------\n",
            "Processando 5 textos com TF-IDF\n",
            "TF-IDF concluído em 0.01s\n",
            "- Dimensões: (5, 1000)\n",
            "Calculando similaridades para TF-IDF\n",
            "\n",
            "Word2Vec\n",
            "------------------------------\n",
            "Treinando Word2Vec com 5 documentos\n",
            "Vocabulário Word2Vec: 1048 palavras\n",
            "Word2Vec concluído em 0.06s\n",
            "Calculando similaridades para Word2Vec\n",
            "\n",
            "BERT\n",
            "------------------------------\n",
            "Carregando modelo BERT\n",
            "BERT carregado com sucesso\n",
            "Processando 5 textos com BERT\n",
            "- BERT: 5/5 processados\n",
            "BERT concluído em 0.64s\n",
            "Calculando similaridades para BERT\n",
            "\n",
            "============================================================\n",
            "HEATMAPS DE SIMILARIDADE POR MODELO\n",
            "============================================================\n",
            "\n",
            "Similaridade - TFIDF\n",
            "-- Dimensões: 1000 | Docs: 5\n",
            "-- Similaridade média: 0.322\n",
            "-- Min: 0.042 | Max: 0.730\n"
          ]
        },
        {
          "data": {
            "image/png": "[encoded data removed]",
            "text/plain": [
              "<Figure size 1000x800 with 2 Axes>"
            ]
          },
          "metadata": {},
          "output_type": "display_data"
        },
        {
          "name": "stdout",
          "output_type": "stream",
          "text": [
            "Heatmap matplotlib gerado: Similaridade - TFIDF\n",
            "\n",
            "Similaridade - WORD2VEC\n",
            "-- Dimensões: 300 | Docs: 5\n",
            "-- Similaridade média: 1.000\n",
            "-- Min: 1.000 | Max: 1.000\n"
          ]
        },
        {
          "data": {
            "text/plain": [
              "<Figure size 640x480 with 0 Axes>"
            ]
          },
          "metadata": {},
          "output_type": "display_data"
        },
        {
          "data": {
            "image/png": "[encoded data removed]",
            "text/plain": [
              "<Figure size 1000x800 with 2 Axes>"
            ]
          },
          "metadata": {},
          "output_type": "display_data"
        },
        {
          "name": "stdout",
          "output_type": "stream",
          "text": [
            "Heatmap matplotlib gerado: Similaridade - WORD2VEC\n",
            "\n",
            "Similaridade - BERT\n",
            "-- Dimensões: 768 | Docs: 5\n",
            "-- Similaridade média: 0.848\n",
            "-- Min: 0.760 | Max: 0.938\n"
          ]
        },
        {
          "data": {
            "text/plain": [
              "<Figure size 640x480 with 0 Axes>"
            ]
          },
          "metadata": {},
          "output_type": "display_data"
        },
        {
          "data": {
            "image/png": "[encoded data removed]",
            "text/plain": [
              "<Figure size 1000x800 with 2 Axes>"
            ]
          },
          "metadata": {},
          "output_type": "display_data"
        },
        {
          "name": "stdout",
          "output_type": "stream",
          "text": [
            "Heatmap matplotlib gerado: Similaridade - BERT\n",
            "\n",
            "============================================================\n",
            "CLUSTERING E PROJEÇÃO 2D\n",
            "============================================================\n"
          ]
        },
        {
          "data": {
            "application/vnd.plotly.v1+json": {
              "config": {
                "plotlyServerURL": "https://plot.ly"
              },
              "data": [
                {
                  "customdata": [
                    [
                      "Post 1",
                      "- Blumenau e sua história",
                      "TFIDF",
                      "Cluster 2"
                    ]
                  ],
                  "hovertemplate": "cluster=%{customdata[3]}<br>modelo=%{customdata[2]}<br>x=%{x:.3f}<br>y=%{y:.3f}<br>post_id=%{customdata[0]}<br>titulo=%{customdata[1]}<extra></extra>",
                  "legendgroup": "Cluster 2",
                  "marker": {
                    "color": "rgb(141,211,199)",
                    "line": {
                      "color": "white",
                      "width": 1
                    },
                    "size": 12,
                    "symbol": "circle"
                  },
                  "mode": "markers",
                  "name": "Cluster 2",
                  "opacity": 0.8,
                  "orientation": "v",
                  "showlegend": true,
                  "type": "scatter",
                  "x": {
                    "bdata": "1P3yhjmOEEA=",
                    "dtype": "f8"
                  },
                  "xaxis": "x",
                  "y": {
                    "bdata": "LsQ7Ht2GEUA=",
                    "dtype": "f8"
                  },
                  "yaxis": "y"
                },
                {
                  "customdata": [
                    [
                      "Post 1",
                      "- Blumenau e sua história",
                      "WORD2VEC",
                      "Cluster 2"
                    ]
                  ],
                  "hovertemplate": "cluster=%{customdata[3]}<br>modelo=%{customdata[2]}<br>x=%{x:.3f}<br>y=%{y:.3f}<br>post_id=%{customdata[0]}<br>titulo=%{customdata[1]}<extra></extra>",
                  "legendgroup": "Cluster 2",
                  "marker": {
                    "color": "rgb(141,211,199)",
                    "line": {
                      "color": "white",
                      "width": 1
                    },
                    "size": 12,
                    "symbol": "circle"
                  },
                  "mode": "markers",
                  "name": "Cluster 2",
                  "opacity": 0.8,
                  "orientation": "v",
                  "showlegend": false,
                  "type": "scatter",
                  "x": {
                    "bdata": "wXFBx3lX0j8=",
                    "dtype": "f8"
                  },
                  "xaxis": "x2",
                  "y": {
                    "bdata": "i5dqPg2WEEA=",
                    "dtype": "f8"
                  },
                  "yaxis": "y2"
                },
                {
                  "customdata": [
                    [
                      "Post 1",
                      "- Blumenau e sua história",
                      "BERT",
                      "Cluster 2"
                    ],
                    [
                      "Post 3",
                      "- Blumenau: Verdades e Mitos!",
                      "BERT",
                      "Cluster 2"
                    ]
                  ],
                  "hovertemplate": "cluster=%{customdata[3]}<br>modelo=%{customdata[2]}<br>x=%{x:.3f}<br>y=%{y:.3f}<br>post_id=%{customdata[0]}<br>titulo=%{customdata[1]}<extra></extra>",
                  "legendgroup": "Cluster 2",
                  "marker": {
                    "color": "rgb(141,211,199)",
                    "line": {
                      "color": "white",
                      "width": 1
                    },
                    "size": 12,
                    "symbol": "circle"
                  },
                  "mode": "markers",
                  "name": "Cluster 2",
                  "opacity": 0.8,
                  "orientation": "v",
                  "showlegend": false,
                  "type": "scatter",
                  "x": {
                    "bdata": "BApNA99wCkCDU2esVTYPQA==",
                    "dtype": "f8"
                  },
                  "xaxis": "x3",
                  "y": {
                    "bdata": "kjTBY9CtAcD7y/9GHvECwA==",
                    "dtype": "f8"
                  },
                  "yaxis": "y3"
                },
                {
                  "customdata": [
                    [
                      "Post 2",
                      "- Parabéns Blumenau e sua gente",
                      "TFIDF",
                      "Cluster 0"
                    ],
                    [
                      "Post 5",
                      "- Os Primeiros 17 Imigrantes de Blumenau",
                      "TFIDF",
                      "Cluster 0"
                    ]
                  ],
                  "hovertemplate": "cluster=%{customdata[3]}<br>modelo=%{customdata[2]}<br>x=%{x:.3f}<br>y=%{y:.3f}<br>post_id=%{customdata[0]}<br>titulo=%{customdata[1]}<extra></extra>",
                  "legendgroup": "Cluster 0",
                  "marker": {
                    "color": "rgb(255,255,179)",
                    "line": {
                      "color": "white",
                      "width": 1
                    },
                    "size": 12,
                    "symbol": "circle"
                  },
                  "mode": "markers",
                  "name": "Cluster 0",
                  "opacity": 0.8,
                  "orientation": "v",
                  "showlegend": true,
                  "type": "scatter",
                  "x": {
                    "bdata": "NQVw2jsS87/3cu7yZ/MdwA==",
                    "dtype": "f8"
                  },
                  "xaxis": "x",
                  "y": {
                    "bdata": "upqvxXSxE0BBN3yEsijxvw==",
                    "dtype": "f8"
                  },
                  "yaxis": "y"
                },
                {
                  "customdata": [
                    [
                      "Post 2",
                      "- Parabéns Blumenau e sua gente",
                      "WORD2VEC",
                      "Cluster 0"
                    ],
                    [
                      "Post 3",
                      "- Blumenau: Verdades e Mitos!",
                      "WORD2VEC",
                      "Cluster 0"
                    ],
                    [
                      "Post 5",
                      "- Os Primeiros 17 Imigrantes de Blumenau",
                      "WORD2VEC",
                      "Cluster 0"
                    ]
                  ],
                  "hovertemplate": "cluster=%{customdata[3]}<br>modelo=%{customdata[2]}<br>x=%{x:.3f}<br>y=%{y:.3f}<br>post_id=%{customdata[0]}<br>titulo=%{customdata[1]}<extra></extra>",
                  "legendgroup": "Cluster 0",
                  "marker": {
                    "color": "rgb(255,255,179)",
                    "line": {
                      "color": "white",
                      "width": 1
                    },
                    "size": 12,
                    "symbol": "circle"
                  },
                  "mode": "markers",
                  "name": "Cluster 0",
                  "opacity": 0.8,
                  "orientation": "v",
                  "showlegend": false,
                  "type": "scatter",
                  "x": {
                    "bdata": "BYtoWT+Z6r8WaYw9L7HvP8YcL7dwYA/A",
                    "dtype": "f8"
                  },
                  "xaxis": "x2",
                  "y": {
                    "bdata": "P9VA/TNvBcAcXy2hE8TjP49lArhj3Nu/",
                    "dtype": "f8"
                  },
                  "yaxis": "y2"
                },
                {
                  "customdata": [
                    [
                      "Post 2",
                      "- Parabéns Blumenau e sua gente",
                      "BERT",
                      "Cluster 0"
                    ],
                    [
                      "Post 5",
                      "- Os Primeiros 17 Imigrantes de Blumenau",
                      "BERT",
                      "Cluster 0"
                    ]
                  ],
                  "hovertemplate": "cluster=%{customdata[3]}<br>modelo=%{customdata[2]}<br>x=%{x:.3f}<br>y=%{y:.3f}<br>post_id=%{customdata[0]}<br>titulo=%{customdata[1]}<extra></extra>",
                  "legendgroup": "Cluster 0",
                  "marker": {
                    "color": "rgb(255,255,179)",
                    "line": {
                      "color": "white",
                      "width": 1
                    },
                    "size": 12,
                    "symbol": "circle"
                  },
                  "mode": "markers",
                  "name": "Cluster 0",
                  "opacity": 0.8,
                  "orientation": "v",
                  "showlegend": false,
                  "type": "scatter",
                  "x": {
                    "bdata": "Q8o4y55lEsCdRVmYXDoRwA==",
                    "dtype": "f8"
                  },
                  "xaxis": "x3",
                  "y": {
                    "bdata": "CZFfRSQXAUDX9yTAXJcNwA==",
                    "dtype": "f8"
                  },
                  "yaxis": "y3"
                },
                {
                  "customdata": [
                    [
                      "Post 3",
                      "- Blumenau: Verdades e Mitos!",
                      "TFIDF",
                      "Cluster 1"
                    ],
                    [
                      "Post 4",
                      "- Dr. Hermann Bruno Otto Blumenau",
                      "TFIDF",
                      "Cluster 1"
                    ]
                  ],
                  "hovertemplate": "cluster=%{customdata[3]}<br>modelo=%{customdata[2]}<br>x=%{x:.3f}<br>y=%{y:.3f}<br>post_id=%{customdata[0]}<br>titulo=%{customdata[1]}<extra></extra>",
                  "legendgroup": "Cluster 1",
                  "marker": {
                    "color": "rgb(190,186,218)",
                    "line": {
                      "color": "white",
                      "width": 1
                    },
                    "size": 12,
                    "symbol": "circle"
                  },
                  "mode": "markers",
                  "name": "Cluster 1",
                  "opacity": 0.8,
                  "orientation": "v",
                  "showlegend": true,
                  "type": "scatter",
                  "x": {
                    "bdata": "TV2YePUD+j88vuIIgFEHQA==",
                    "dtype": "f8"
                  },
                  "xaxis": "x",
                  "y": {
                    "bdata": "FlKPQQP2BsAFqASiI3MVwA==",
                    "dtype": "f8"
                  },
                  "yaxis": "y"
                },
                {
                  "customdata": [
                    [
                      "Post 4",
                      "- Dr. Hermann Bruno Otto Blumenau",
                      "WORD2VEC",
                      "Cluster 1"
                    ]
                  ],
                  "hovertemplate": "cluster=%{customdata[3]}<br>modelo=%{customdata[2]}<br>x=%{x:.3f}<br>y=%{y:.3f}<br>post_id=%{customdata[0]}<br>titulo=%{customdata[1]}<extra></extra>",
                  "legendgroup": "Cluster 1",
                  "marker": {
                    "color": "rgb(190,186,218)",
                    "line": {
                      "color": "white",
                      "width": 1
                    },
                    "size": 12,
                    "symbol": "circle"
                  },
                  "mode": "markers",
                  "name": "Cluster 1",
                  "opacity": 0.8,
                  "orientation": "v",
                  "showlegend": false,
                  "type": "scatter",
                  "x": {
                    "bdata": "Evc9hYXPC0A=",
                    "dtype": "f8"
                  },
                  "xaxis": "x2",
                  "y": {
                    "bdata": "z8m+4b1k+r8=",
                    "dtype": "f8"
                  },
                  "yaxis": "y2"
                },
                {
                  "customdata": [
                    [
                      "Post 4",
                      "- Dr. Hermann Bruno Otto Blumenau",
                      "BERT",
                      "Cluster 1"
                    ]
                  ],
                  "hovertemplate": "cluster=%{customdata[3]}<br>modelo=%{customdata[2]}<br>x=%{x:.3f}<br>y=%{y:.3f}<br>post_id=%{customdata[0]}<br>titulo=%{customdata[1]}<extra></extra>",
                  "legendgroup": "Cluster 1",
                  "marker": {
                    "color": "rgb(190,186,218)",
                    "line": {
                      "color": "white",
                      "width": 1
                    },
                    "size": 12,
                    "symbol": "circle"
                  },
                  "mode": "markers",
                  "name": "Cluster 1",
                  "opacity": 0.8,
                  "orientation": "v",
                  "showlegend": false,
                  "type": "scatter",
                  "x": {
                    "bdata": "b4TfLoQx+z8=",
                    "dtype": "f8"
                  },
                  "xaxis": "x3",
                  "y": {
                    "bdata": "sjPDkpOPGEA=",
                    "dtype": "f8"
                  },
                  "yaxis": "y3"
                }
              ],
              "layout": {
                "annotations": [
                  {
                    "font": {},
                    "showarrow": false,
                    "text": "TFIDF<br><sub>PCA1: 26.9%, PCA2: 25.6%</sub>",
                    "x": 0.13999999999999999,
                    "xanchor": "center",
                    "xref": "paper",
                    "y": 1,
                    "yanchor": "bottom",
                    "yref": "paper"
                  },
                  {
                    "font": {},
                    "showarrow": false,
                    "text": "WORD2VEC<br><sub>PCA1: 28.3%, PCA2: 26.8%</sub>",
                    "x": 0.49999999999999994,
                    "xanchor": "center",
                    "xref": "paper",
                    "y": 1,
                    "yanchor": "bottom",
                    "yref": "paper"
                  },
                  {
                    "font": {},
                    "showarrow": false,
                    "text": "BERT<br><sub>PCA1: 26.4%, PCA2: 25.6%</sub>",
                    "x": 0.86,
                    "xanchor": "center",
                    "xref": "paper",
                    "y": 1,
                    "yanchor": "bottom",
                    "yref": "paper"
                  }
                ],
                "height": 500,
                "legend": {
                  "title": {
                    "text": "Clusters"
                  },
                  "tracegroupgap": 0
                },
                "margin": {
                  "b": 40,
                  "l": 40,
                  "r": 40,
                  "t": 80
                },
                "template": {
                  "data": {
                    "bar": [
                      {
                        "error_x": {
                          "color": "#2a3f5f"
                        },
                        "error_y": {
                          "color": "#2a3f5f"
                        },
                        "marker": {
                          "line": {
                            "color": "white",
                            "width": 0.5
                          },
                          "pattern": {
                            "fillmode": "overlay",
                            "size": 10,
                            "solidity": 0.2
                          }
                        },
                        "type": "bar"
                      }
                    ],
                    "barpolar": [
                      {
                        "marker": {
                          "line": {
                            "color": "white",
                            "width": 0.5
                          },
                          "pattern": {
                            "fillmode": "overlay",
                            "size": 10,
                            "solidity": 0.2
                          }
                        },
                        "type": "barpolar"
                      }
                    ],
                    "carpet": [
                      {
                        "aaxis": {
                          "endlinecolor": "#2a3f5f",
                          "gridcolor": "#C8D4E3",
                          "linecolor": "#C8D4E3",
                          "minorgridcolor": "#C8D4E3",
                          "startlinecolor": "#2a3f5f"
                        },
                        "baxis": {
                          "endlinecolor": "#2a3f5f",
                          "gridcolor": "#C8D4E3",
                          "linecolor": "#C8D4E3",
                          "minorgridcolor": "#C8D4E3",
                          "startlinecolor": "#2a3f5f"
                        },
                        "type": "carpet"
                      }
                    ],
                    "choropleth": [
                      {
                        "colorbar": {
                          "outlinewidth": 0,
                          "ticks": ""
                        },
                        "type": "choropleth"
                      }
                    ],
                    "contour": [
                      {
                        "colorbar": {
                          "outlinewidth": 0,
                          "ticks": ""
                        },
                        "colorscale": [
                          [
                            0,
                            "#0d0887"
                          ],
                          [
                            0.1111111111111111,
                            "#46039f"
                          ],
                          [
                            0.2222222222222222,
                            "#7201a8"
                          ],
                          [
                            0.3333333333333333,
                            "#9c179e"
                          ],
                          [
                            0.4444444444444444,
                            "#bd3786"
                          ],
                          [
                            0.5555555555555556,
                            "#d8576b"
                          ],
                          [
                            0.6666666666666666,
                            "#ed7953"
                          ],
                          [
                            0.7777777777777778,
                            "#fb9f3a"
                          ],
                          [
                            0.8888888888888888,
                            "#fdca26"
                          ],
                          [
                            1,
                            "#f0f921"
                          ]
                        ],
                        "type": "contour"
                      }
                    ],
                    "contourcarpet": [
                      {
                        "colorbar": {
                          "outlinewidth": 0,
                          "ticks": ""
                        },
                        "type": "contourcarpet"
                      }
                    ],
                    "heatmap": [
                      {
                        "colorbar": {
                          "outlinewidth": 0,
                          "ticks": ""
                        },
                        "colorscale": [
                          [
                            0,
                            "#0d0887"
                          ],
                          [
                            0.1111111111111111,
                            "#46039f"
                          ],
                          [
                            0.2222222222222222,
                            "#7201a8"
                          ],
                          [
                            0.3333333333333333,
                            "#9c179e"
                          ],
                          [
                            0.4444444444444444,
                            "#bd3786"
                          ],
                          [
                            0.5555555555555556,
                            "#d8576b"
                          ],
                          [
                            0.6666666666666666,
                            "#ed7953"
                          ],
                          [
                            0.7777777777777778,
                            "#fb9f3a"
                          ],
                          [
                            0.8888888888888888,
                            "#fdca26"
                          ],
                          [
                            1,
                            "#f0f921"
                          ]
                        ],
                        "type": "heatmap"
                      }
                    ],
                    "histogram": [
                      {
                        "marker": {
                          "pattern": {
                            "fillmode": "overlay",
                            "size": 10,
                            "solidity": 0.2
                          }
                        },
                        "type": "histogram"
                      }
                    ],
                    "histogram2d": [
                      {
                        "colorbar": {
                          "outlinewidth": 0,
                          "ticks": ""
                        },
                        "colorscale": [
                          [
                            0,
                            "#0d0887"
                          ],
                          [
                            0.1111111111111111,
                            "#46039f"
                          ],
                          [
                            0.2222222222222222,
                            "#7201a8"
                          ],
                          [
                            0.3333333333333333,
                            "#9c179e"
                          ],
                          [
                            0.4444444444444444,
                            "#bd3786"
                          ],
                          [
                            0.5555555555555556,
                            "#d8576b"
                          ],
                          [
                            0.6666666666666666,
                            "#ed7953"
                          ],
                          [
                            0.7777777777777778,
                            "#fb9f3a"
                          ],
                          [
                            0.8888888888888888,
                            "#fdca26"
                          ],
                          [
                            1,
                            "#f0f921"
                          ]
                        ],
                        "type": "histogram2d"
                      }
                    ],
                    "histogram2dcontour": [
                      {
                        "colorbar": {
                          "outlinewidth": 0,
                          "ticks": ""
                        },
                        "colorscale": [
                          [
                            0,
                            "#0d0887"
                          ],
                          [
                            0.1111111111111111,
                            "#46039f"
                          ],
                          [
                            0.2222222222222222,
                            "#7201a8"
                          ],
                          [
                            0.3333333333333333,
                            "#9c179e"
                          ],
                          [
                            0.4444444444444444,
                            "#bd3786"
                          ],
                          [
                            0.5555555555555556,
                            "#d8576b"
                          ],
                          [
                            0.6666666666666666,
                            "#ed7953"
                          ],
                          [
                            0.7777777777777778,
                            "#fb9f3a"
                          ],
                          [
                            0.8888888888888888,
                            "#fdca26"
                          ],
                          [
                            1,
                            "#f0f921"
                          ]
                        ],
                        "type": "histogram2dcontour"
                      }
                    ],
                    "mesh3d": [
                      {
                        "colorbar": {
                          "outlinewidth": 0,
                          "ticks": ""
                        },
                        "type": "mesh3d"
                      }
                    ],
                    "parcoords": [
                      {
                        "line": {
                          "colorbar": {
                            "outlinewidth": 0,
                            "ticks": ""
                          }
                        },
                        "type": "parcoords"
                      }
                    ],
                    "pie": [
                      {
                        "automargin": true,
                        "type": "pie"
                      }
                    ],
                    "scatter": [
                      {
                        "fillpattern": {
                          "fillmode": "overlay",
                          "size": 10,
                          "solidity": 0.2
                        },
                        "type": "scatter"
                      }
                    ],
                    "scatter3d": [
                      {
                        "line": {
                          "colorbar": {
                            "outlinewidth": 0,
                            "ticks": ""
                          }
                        },
                        "marker": {
                          "colorbar": {
                            "outlinewidth": 0,
                            "ticks": ""
                          }
                        },
                        "type": "scatter3d"
                      }
                    ],
                    "scattercarpet": [
                      {
                        "marker": {
                          "colorbar": {
                            "outlinewidth": 0,
                            "ticks": ""
                          }
                        },
                        "type": "scattercarpet"
                      }
                    ],
                    "scattergeo": [
                      {
                        "marker": {
                          "colorbar": {
                            "outlinewidth": 0,
                            "ticks": ""
                          }
                        },
                        "type": "scattergeo"
                      }
                    ],
                    "scattergl": [
                      {
                        "marker": {
                          "colorbar": {
                            "outlinewidth": 0,
                            "ticks": ""
                          }
                        },
                        "type": "scattergl"
                      }
                    ],
                    "scattermap": [
                      {
                        "marker": {
                          "colorbar": {
                            "outlinewidth": 0,
                            "ticks": ""
                          }
                        },
                        "type": "scattermap"
                      }
                    ],
                    "scattermapbox": [
                      {
                        "marker": {
                          "colorbar": {
                            "outlinewidth": 0,
                            "ticks": ""
                          }
                        },
                        "type": "scattermapbox"
                      }
                    ],
                    "scatterpolar": [
                      {
                        "marker": {
                          "colorbar": {
                            "outlinewidth": 0,
                            "ticks": ""
                          }
                        },
                        "type": "scatterpolar"
                      }
                    ],
                    "scatterpolargl": [
                      {
                        "marker": {
                          "colorbar": {
                            "outlinewidth": 0,
                            "ticks": ""
                          }
                        },
                        "type": "scatterpolargl"
                      }
                    ],
                    "scatterternary": [
                      {
                        "marker": {
                          "colorbar": {
                            "outlinewidth": 0,
                            "ticks": ""
                          }
                        },
                        "type": "scatterternary"
                      }
                    ],
                    "surface": [
                      {
                        "colorbar": {
                          "outlinewidth": 0,
                          "ticks": ""
                        },
                        "colorscale": [
                          [
                            0,
                            "#0d0887"
                          ],
                          [
                            0.1111111111111111,
                            "#46039f"
                          ],
                          [
                            0.2222222222222222,
                            "#7201a8"
                          ],
                          [
                            0.3333333333333333,
                            "#9c179e"
                          ],
                          [
                            0.4444444444444444,
                            "#bd3786"
                          ],
                          [
                            0.5555555555555556,
                            "#d8576b"
                          ],
                          [
                            0.6666666666666666,
                            "#ed7953"
                          ],
                          [
                            0.7777777777777778,
                            "#fb9f3a"
                          ],
                          [
                            0.8888888888888888,
                            "#fdca26"
                          ],
                          [
                            1,
                            "#f0f921"
                          ]
                        ],
                        "type": "surface"
                      }
                    ],
                    "table": [
                      {
                        "cells": {
                          "fill": {
                            "color": "#EBF0F8"
                          },
                          "line": {
                            "color": "white"
                          }
                        },
                        "header": {
                          "fill": {
                            "color": "#C8D4E3"
                          },
                          "line": {
                            "color": "white"
                          }
                        },
                        "type": "table"
                      }
                    ]
                  },
                  "layout": {
                    "annotationdefaults": {
                      "arrowcolor": "#2a3f5f",
                      "arrowhead": 0,
                      "arrowwidth": 1
                    },
                    "autotypenumbers": "strict",
                    "coloraxis": {
                      "colorbar": {
                        "outlinewidth": 0,
                        "ticks": ""
                      }
                    },
                    "colorscale": {
                      "diverging": [
                        [
                          0,
                          "#8e0152"
                        ],
                        [
                          0.1,
                          "#c51b7d"
                        ],
                        [
                          0.2,
                          "#de77ae"
                        ],
                        [
                          0.3,
                          "#f1b6da"
                        ],
                        [
                          0.4,
                          "#fde0ef"
                        ],
                        [
                          0.5,
                          "#f7f7f7"
                        ],
                        [
                          0.6,
                          "#e6f5d0"
                        ],
                        [
                          0.7,
                          "#b8e186"
                        ],
                        [
                          0.8,
                          "#7fbc41"
                        ],
                        [
                          0.9,
                          "#4d9221"
                        ],
                        [
                          1,
                          "#276419"
                        ]
                      ],
                      "sequential": [
                        [
                          0,
                          "#0d0887"
                        ],
                        [
                          0.1111111111111111,
                          "#46039f"
                        ],
                        [
                          0.2222222222222222,
                          "#7201a8"
                        ],
                        [
                          0.3333333333333333,
                          "#9c179e"
                        ],
                        [
                          0.4444444444444444,
                          "#bd3786"
                        ],
                        [
                          0.5555555555555556,
                          "#d8576b"
                        ],
                        [
                          0.6666666666666666,
                          "#ed7953"
                        ],
                        [
                          0.7777777777777778,
                          "#fb9f3a"
                        ],
                        [
                          0.8888888888888888,
                          "#fdca26"
                        ],
                        [
                          1,
                          "#f0f921"
                        ]
                      ],
                      "sequentialminus": [
                        [
                          0,
                          "#0d0887"
                        ],
                        [
                          0.1111111111111111,
                          "#46039f"
                        ],
                        [
                          0.2222222222222222,
                          "#7201a8"
                        ],
                        [
                          0.3333333333333333,
                          "#9c179e"
                        ],
                        [
                          0.4444444444444444,
                          "#bd3786"
                        ],
                        [
                          0.5555555555555556,
                          "#d8576b"
                        ],
                        [
                          0.6666666666666666,
                          "#ed7953"
                        ],
                        [
                          0.7777777777777778,
                          "#fb9f3a"
                        ],
                        [
                          0.8888888888888888,
                          "#fdca26"
                        ],
                        [
                          1,
                          "#f0f921"
                        ]
                      ]
                    },
                    "colorway": [
                      "#636efa",
                      "#EF553B",
                      "#00cc96",
                      "#ab63fa",
                      "#FFA15A",
                      "#19d3f3",
                      "#FF6692",
                      "#B6E880",
                      "#FF97FF",
                      "#FECB52"
                    ],
                    "font": {
                      "color": "#2a3f5f"
                    },
                    "geo": {
                      "bgcolor": "white",
                      "lakecolor": "white",
                      "landcolor": "white",
                      "showlakes": true,
                      "showland": true,
                      "subunitcolor": "#C8D4E3"
                    },
                    "hoverlabel": {
                      "align": "left"
                    },
                    "hovermode": "closest",
                    "mapbox": {
                      "style": "light"
                    },
                    "paper_bgcolor": "white",
                    "plot_bgcolor": "white",
                    "polar": {
                      "angularaxis": {
                        "gridcolor": "#EBF0F8",
                        "linecolor": "#EBF0F8",
                        "ticks": ""
                      },
                      "bgcolor": "white",
                      "radialaxis": {
                        "gridcolor": "#EBF0F8",
                        "linecolor": "#EBF0F8",
                        "ticks": ""
                      }
                    },
                    "scene": {
                      "xaxis": {
                        "backgroundcolor": "white",
                        "gridcolor": "#DFE8F3",
                        "gridwidth": 2,
                        "linecolor": "#EBF0F8",
                        "showbackground": true,
                        "ticks": "",
                        "zerolinecolor": "#EBF0F8"
                      },
                      "yaxis": {
                        "backgroundcolor": "white",
                        "gridcolor": "#DFE8F3",
                        "gridwidth": 2,
                        "linecolor": "#EBF0F8",
                        "showbackground": true,
                        "ticks": "",
                        "zerolinecolor": "#EBF0F8"
                      },
                      "zaxis": {
                        "backgroundcolor": "white",
                        "gridcolor": "#DFE8F3",
                        "gridwidth": 2,
                        "linecolor": "#EBF0F8",
                        "showbackground": true,
                        "ticks": "",
                        "zerolinecolor": "#EBF0F8"
                      }
                    },
                    "shapedefaults": {
                      "line": {
                        "color": "#2a3f5f"
                      }
                    },
                    "ternary": {
                      "aaxis": {
                        "gridcolor": "#DFE8F3",
                        "linecolor": "#A2B1C6",
                        "ticks": ""
                      },
                      "baxis": {
                        "gridcolor": "#DFE8F3",
                        "linecolor": "#A2B1C6",
                        "ticks": ""
                      },
                      "bgcolor": "white",
                      "caxis": {
                        "gridcolor": "#DFE8F3",
                        "linecolor": "#A2B1C6",
                        "ticks": ""
                      }
                    },
                    "title": {
                      "x": 0.05
                    },
                    "xaxis": {
                      "automargin": true,
                      "gridcolor": "#EBF0F8",
                      "linecolor": "#EBF0F8",
                      "ticks": "",
                      "title": {
                        "standoff": 15
                      },
                      "zerolinecolor": "#EBF0F8",
                      "zerolinewidth": 2
                    },
                    "yaxis": {
                      "automargin": true,
                      "gridcolor": "#EBF0F8",
                      "linecolor": "#EBF0F8",
                      "ticks": "",
                      "title": {
                        "standoff": 15
                      },
                      "zerolinecolor": "#EBF0F8",
                      "zerolinewidth": 2
                    }
                  }
                },
                "title": {
                  "text": "Clusterização 2D por Modelo - Comparação BERT vs Word2Vec vs TF-IDF"
                },
                "width": 1200,
                "xaxis": {
                  "anchor": "y",
                  "domain": [
                    0,
                    0.27999999999999997
                  ],
                  "title": {
                    "text": "x"
                  }
                },
                "xaxis2": {
                  "anchor": "y2",
                  "domain": [
                    0.36,
                    0.6399999999999999
                  ],
                  "matches": "x",
                  "title": {
                    "text": "x"
                  }
                },
                "xaxis3": {
                  "anchor": "y3",
                  "domain": [
                    0.72,
                    1
                  ],
                  "matches": "x",
                  "title": {
                    "text": "x"
                  }
                },
                "yaxis": {
                  "anchor": "x",
                  "domain": [
                    0,
                    1
                  ],
                  "title": {
                    "text": "y"
                  }
                },
                "yaxis2": {
                  "anchor": "x2",
                  "domain": [
                    0,
                    1
                  ],
                  "matches": "y",
                  "showticklabels": false
                },
                "yaxis3": {
                  "anchor": "x3",
                  "domain": [
                    0,
                    1
                  ],
                  "matches": "y",
                  "showticklabels": false
                }
              }
            }
          },
          "metadata": {},
          "output_type": "display_data"
        },
        {
          "name": "stdout",
          "output_type": "stream",
          "text": [
            "\n",
            "Resultados do Clustering:\n",
            "  modelo                      titulo_curto   cluster\n",
            "   TFIDF         - Blumenau e sua história Cluster 2\n",
            "   TFIDF - Parabéns Blumenau e sua gent... Cluster 0\n",
            "   TFIDF     - Blumenau: Verdades e Mitos! Cluster 1\n",
            "   TFIDF - Dr. Hermann Bruno Otto Blume... Cluster 1\n",
            "   TFIDF - Os Primeiros 17 Imigrantes d... Cluster 0\n",
            "WORD2VEC         - Blumenau e sua história Cluster 2\n",
            "WORD2VEC - Parabéns Blumenau e sua gent... Cluster 0\n",
            "WORD2VEC     - Blumenau: Verdades e Mitos! Cluster 0\n",
            "WORD2VEC - Dr. Hermann Bruno Otto Blume... Cluster 1\n",
            "WORD2VEC - Os Primeiros 17 Imigrantes d... Cluster 0\n",
            "    BERT         - Blumenau e sua história Cluster 2\n",
            "    BERT - Parabéns Blumenau e sua gent... Cluster 0\n",
            "    BERT     - Blumenau: Verdades e Mitos! Cluster 2\n",
            "    BERT - Dr. Hermann Bruno Otto Blume... Cluster 1\n",
            "    BERT - Os Primeiros 17 Imigrantes d... Cluster 0\n",
            "\n",
            "============================================================\n",
            "RELATÓRIO COMPARATIVO\n",
            "============================================================\n",
            "\n",
            "Resumo por Modelo:\n",
            "\n",
            "TFIDF:\n",
            "- Dimensões: 1000\n",
            "- Documentos: 5\n",
            "- Similaridade média: 0.322 ± 0.215\n",
            "- Faixa: 0.042 - 0.730\n",
            "\n",
            "WORD2VEC:\n",
            "- Dimensões: 300\n",
            "- Documentos: 5\n",
            "- Similaridade média: 1.000 ± 0.000\n",
            "- Faixa: 1.000 - 1.000\n",
            "\n",
            "BERT:\n",
            "- Dimensões: 768\n",
            "- Documentos: 5\n",
            "- Similaridade média: 0.848 ± 0.052\n",
            "- Faixa: 0.760 - 0.938\n",
            "\n",
            "Interpretação:\n",
            "- Valores altos de similaridade indicam maior coesão semântica\n",
            "- TF-IDF captura termos específicos e frequência\n",
            "- Word2Vec considera contexto semântico das palavras\n",
            "- BERT oferece representação contextual mais sofisticada\n",
            "\n",
            "================================================================================\n",
            "ANÁLISE CONCLUÍDA\n",
            "================================================================================\n",
            "\n",
            "Análise executada\n"
          ]
        },
        {
          "data": {
            "text/plain": [
              "<Figure size 640x480 with 0 Axes>"
            ]
          },
          "metadata": {},
          "output_type": "display_data"
        }
      ],
      "source": [
        "# EXECUTAR ANÁLISE COMPLETA\n",
        "# Descomente e execute a linha abaixo para rodar a análise\n",
        "\n",
        "# Opção 1: Com dados de exemplo (para testar rapidamente)\n",
        "# resultado_analise = executar_analise_completa()\n",
        "\n",
        "# Opção 2: Com dados do scraping (se existirem)\n",
        "scraper = AdalbertoScraper()\n",
        "scraper.processar_lista_posts()\n",
        "dados_scraped = scraper.resultados\n",
        "scraper.close()\n",
        "resultado_analise = executar_analise_completa(dados_scraped, max_documentos=15)\n",
        "\n",
        "print(\"\\nAnálise executada\")\n"
      ]
    }
  ],
  "metadata": {
    "kernelspec": {
      "display_name": "Python 3",
      "language": "python",
      "name": "python3"
    },
    "language_info": {
      "codemirror_mode": {
        "name": "ipython",
        "version": 3
      },
      "file_extension": ".py",
      "mimetype": "text/x-python",
      "name": "python",
      "nbconvert_exporter": "python",
      "pygments_lexer": "ipython3",
      "version": "3.10.9"
    }
  },
  "nbformat": 4,
  "nbformat_minor": 2
}
